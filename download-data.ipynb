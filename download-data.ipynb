{
 "cells": [
  {
   "cell_type": "code",
   "execution_count": null,
   "metadata": {
    "colab": {},
    "colab_type": "code",
    "id": "dxxqr7KnjNo4"
   },
   "outputs": [],
   "source": [
    "from google.colab import drive\n",
    "drive.mount('/content/drive')\n",
    "%cd /content/drive/My Drive/Colab Notebooks/Python/Proyectos/Deep-Learning-liver-segmentation-project-master\n",
    "!pwd"
   ]
  },
  {
   "cell_type": "code",
   "execution_count": null,
   "metadata": {
    "colab": {},
    "colab_type": "code",
    "id": "o8h1lKc7C3dZ"
   },
   "outputs": [],
   "source": [
    "!wget  -P \"ircad-dataset.zip\" \"https://uc024e81de1cd9a40ec056168242.dl.dropboxusercontent.com/cd/0/get/AzG1V_j7NQLUjCMoBFA1AfT1vUVSmQtW6f8jw-hQSjeL7wTXsjCeXQ27YcUAmzvhVR6q-Aq2rwlavnDgvQgldD0KuCTLX-kGG6sFeRU7QrNtAMj7BoqeNlcb3y0pNU6uSI8/file?_download_id=804590774976771846891646756850447922649186922453831301734042422247&_notify_domain=www.dropbox.com&dl=1\""
   ]
  },
  {
   "cell_type": "markdown",
   "metadata": {
    "colab_type": "text",
    "id": "V-kMm9q_DnXL"
   },
   "source": [
    ">**Nota:** Omitir la descarga si ya tiene el archivo **ircad-dataset.zip**"
   ]
  },
  {
   "cell_type": "code",
   "execution_count": null,
   "metadata": {
    "colab": {},
    "colab_type": "code",
    "id": "FVd9cQv7j9NX"
   },
   "outputs": [],
   "source": [
    "!unzip 'ircad-dataset.zip'"
   ]
  },
  {
   "cell_type": "markdown",
   "metadata": {
    "colab_type": "text",
    "id": "91ULY3f2Lvjz"
   },
   "source": [
    "**Importante:** Una vez descomprimida la data encontrara una carpeta llamada **ircad-dataset** dentro se encuentran los 20 conjunto de imagenes donde cada conjunto de imagenes representa a un paciente al que le realizaron la resonancia magnética, ademas encontrara 20 conjuntos de imagenes mas que representan las mascaras o donde se encuentra el higado en la imagen original\n",
    "\n",
    "Se distinguen de la siguiente forma:\n",
    "\n",
    "- ircad_e14**_orig**.nii.gz  \n",
    "Hace referencia al escaneo original sin ninguna modificacion o alteracion.\n",
    "- ircad_e14**_liver**.nii.gz  \n",
    "Hace referencia a la mascara donde a partir de la imagen original se señalo unicamente donde se encuentra el higado.\n",
    "\n",
    "**Pasos antes de ejecutar el notebook.ipynb**  \n",
    "1. Cree una carpeta llamada **raw**\n",
    "2. Dentro de **raw** cree dos carpetas que llamara **train** y **test**\n",
    "3. Divida el conjunto de datos que se encuentra en la carpeta **ircad-dataset** seleccionando y pasando 13 muestras para el **train** y 7 muestras para el **test**. Recuerde en las carpetas tanto de train como test debe encontrarse la imagen original (ej: ircad_e14**_orig**.nii.gz) como su mascara (ej:ircad_e14**_liver**.nii.gz)"
   ]
  }
 ],
 "metadata": {
  "colab": {
   "collapsed_sections": [],
   "name": "Descargar data.ipynb",
   "provenance": [],
   "toc_visible": true
  },
  "kernelspec": {
   "display_name": "Python 3",
   "language": "python",
   "name": "python3"
  },
  "language_info": {
   "codemirror_mode": {
    "name": "ipython",
    "version": 3
   },
   "file_extension": ".py",
   "mimetype": "text/x-python",
   "name": "python",
   "nbconvert_exporter": "python",
   "pygments_lexer": "ipython3",
   "version": "3.7.4"
  }
 },
 "nbformat": 4,
 "nbformat_minor": 4
}
