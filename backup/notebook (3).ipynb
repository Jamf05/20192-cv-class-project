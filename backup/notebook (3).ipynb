{
  "nbformat": 4,
  "nbformat_minor": 0,
  "metadata": {
    "colab": {
      "name": "notebook.ipynb",
      "provenance": [],
      "collapsed_sections": [
        "l_dCwRUbTpx8",
        "AQSGm3EBo5FG",
        "YrdGZJoxJrix"
      ],
      "toc_visible": true,
      "machine_shape": "hm"
    },
    "kernelspec": {
      "name": "python3",
      "display_name": "Python 3"
    },
    "accelerator": "GPU",
    "widgets": {
      "application/vnd.jupyter.widget-state+json": {
        "1ddc4ab275ca4079b04c5fc74bf0f8b6": {
          "model_module": "@jupyter-widgets/controls",
          "model_name": "VBoxModel",
          "state": {
            "_view_name": "VBoxView",
            "_dom_classes": [
              "widget-interact"
            ],
            "_model_name": "VBoxModel",
            "_view_module": "@jupyter-widgets/controls",
            "_model_module_version": "1.5.0",
            "_view_count": null,
            "_view_module_version": "1.5.0",
            "box_style": "",
            "layout": "IPY_MODEL_83ccffb51e2a450db3ce390cbbed1c0c",
            "_model_module": "@jupyter-widgets/controls",
            "children": [
              "IPY_MODEL_22d3f183d527498c8d78924f34c638e4",
              "IPY_MODEL_eccbf786c9a1432ca734cf64406e19f0"
            ]
          }
        },
        "83ccffb51e2a450db3ce390cbbed1c0c": {
          "model_module": "@jupyter-widgets/base",
          "model_name": "LayoutModel",
          "state": {
            "_view_name": "LayoutView",
            "grid_template_rows": null,
            "right": null,
            "justify_content": null,
            "_view_module": "@jupyter-widgets/base",
            "overflow": null,
            "_model_module_version": "1.2.0",
            "_view_count": null,
            "flex_flow": null,
            "width": null,
            "min_width": null,
            "border": null,
            "align_items": null,
            "bottom": null,
            "_model_module": "@jupyter-widgets/base",
            "top": null,
            "grid_column": null,
            "overflow_y": null,
            "overflow_x": null,
            "grid_auto_flow": null,
            "grid_area": null,
            "grid_template_columns": null,
            "flex": null,
            "_model_name": "LayoutModel",
            "justify_items": null,
            "grid_row": null,
            "max_height": null,
            "align_content": null,
            "visibility": null,
            "align_self": null,
            "height": null,
            "min_height": null,
            "padding": null,
            "grid_auto_rows": null,
            "grid_gap": null,
            "max_width": null,
            "order": null,
            "_view_module_version": "1.2.0",
            "grid_template_areas": null,
            "object_position": null,
            "object_fit": null,
            "grid_auto_columns": null,
            "margin": null,
            "display": null,
            "left": null
          }
        },
        "22d3f183d527498c8d78924f34c638e4": {
          "model_module": "@jupyter-widgets/controls",
          "model_name": "IntSliderModel",
          "state": {
            "_view_name": "IntSliderView",
            "style": "IPY_MODEL_f2e7210208e54c3ea56d20578a10d110",
            "_dom_classes": [],
            "description": "index",
            "step": 1,
            "_model_name": "IntSliderModel",
            "orientation": "horizontal",
            "max": 112,
            "_view_module": "@jupyter-widgets/controls",
            "_model_module_version": "1.5.0",
            "value": 0,
            "_view_count": null,
            "disabled": false,
            "_view_module_version": "1.5.0",
            "min": 0,
            "continuous_update": true,
            "readout_format": "d",
            "description_tooltip": null,
            "readout": true,
            "_model_module": "@jupyter-widgets/controls",
            "layout": "IPY_MODEL_871d8e42cdee47559c12668fafad1a50"
          }
        },
        "eccbf786c9a1432ca734cf64406e19f0": {
          "model_module": "@jupyter-widgets/output",
          "model_name": "OutputModel",
          "state": {
            "_view_name": "OutputView",
            "msg_id": "",
            "_dom_classes": [],
            "_model_name": "OutputModel",
            "outputs": [
              {
                "output_type": "display_data",
                "metadata": {
                  "tags": []
                },
                "image/png": "iVBORw0KGgoAAAANSUhEUgAAAOcAAADnCAYAAADl9EEgAAAABHNCSVQICAgIfAhkiAAAAAlwSFlz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\nAABJRU5ErkJggg==\n",
                "text/plain": "<Figure size 432x288 with 1 Axes>"
              },
              {
                "output_type": "display_data",
                "metadata": {
                  "tags": []
                },
                "text/plain": "<matplotlib.image.AxesImage at 0x7f8cc8702ef0>"
              }
            ],
            "_view_module": "@jupyter-widgets/output",
            "_model_module_version": "1.0.0",
            "_view_count": null,
            "_view_module_version": "1.0.0",
            "layout": "IPY_MODEL_1b454ec7cbc64d09848c1fed69014545",
            "_model_module": "@jupyter-widgets/output"
          }
        },
        "f2e7210208e54c3ea56d20578a10d110": {
          "model_module": "@jupyter-widgets/controls",
          "model_name": "SliderStyleModel",
          "state": {
            "_view_name": "StyleView",
            "handle_color": null,
            "_model_name": "SliderStyleModel",
            "description_width": "",
            "_view_module": "@jupyter-widgets/base",
            "_model_module_version": "1.5.0",
            "_view_count": null,
            "_view_module_version": "1.2.0",
            "_model_module": "@jupyter-widgets/controls"
          }
        },
        "871d8e42cdee47559c12668fafad1a50": {
          "model_module": "@jupyter-widgets/base",
          "model_name": "LayoutModel",
          "state": {
            "_view_name": "LayoutView",
            "grid_template_rows": null,
            "right": null,
            "justify_content": null,
            "_view_module": "@jupyter-widgets/base",
            "overflow": null,
            "_model_module_version": "1.2.0",
            "_view_count": null,
            "flex_flow": null,
            "width": null,
            "min_width": null,
            "border": null,
            "align_items": null,
            "bottom": null,
            "_model_module": "@jupyter-widgets/base",
            "top": null,
            "grid_column": null,
            "overflow_y": null,
            "overflow_x": null,
            "grid_auto_flow": null,
            "grid_area": null,
            "grid_template_columns": null,
            "flex": null,
            "_model_name": "LayoutModel",
            "justify_items": null,
            "grid_row": null,
            "max_height": null,
            "align_content": null,
            "visibility": null,
            "align_self": null,
            "height": null,
            "min_height": null,
            "padding": null,
            "grid_auto_rows": null,
            "grid_gap": null,
            "max_width": null,
            "order": null,
            "_view_module_version": "1.2.0",
            "grid_template_areas": null,
            "object_position": null,
            "object_fit": null,
            "grid_auto_columns": null,
            "margin": null,
            "display": null,
            "left": null
          }
        },
        "c3c945d19b1c49ba9ffb43990d1c0b7a": {
          "model_module": "@jupyter-widgets/controls",
          "model_name": "VBoxModel",
          "state": {
            "_view_name": "VBoxView",
            "_dom_classes": [
              "widget-interact"
            ],
            "_model_name": "VBoxModel",
            "_view_module": "@jupyter-widgets/controls",
            "_model_module_version": "1.5.0",
            "_view_count": null,
            "_view_module_version": "1.5.0",
            "box_style": "",
            "layout": "IPY_MODEL_69035c49b94d4d55991d3076db2a42c6",
            "_model_module": "@jupyter-widgets/controls",
            "children": [
              "IPY_MODEL_a978578bcb3e4a90b68107e894de95eb",
              "IPY_MODEL_02bfc6a115e548d8a4e7e2df7f99a157"
            ]
          }
        },
        "69035c49b94d4d55991d3076db2a42c6": {
          "model_module": "@jupyter-widgets/base",
          "model_name": "LayoutModel",
          "state": {
            "_view_name": "LayoutView",
            "grid_template_rows": null,
            "right": null,
            "justify_content": null,
            "_view_module": "@jupyter-widgets/base",
            "overflow": null,
            "_model_module_version": "1.2.0",
            "_view_count": null,
            "flex_flow": null,
            "width": null,
            "min_width": null,
            "border": null,
            "align_items": null,
            "bottom": null,
            "_model_module": "@jupyter-widgets/base",
            "top": null,
            "grid_column": null,
            "overflow_y": null,
            "overflow_x": null,
            "grid_auto_flow": null,
            "grid_area": null,
            "grid_template_columns": null,
            "flex": null,
            "_model_name": "LayoutModel",
            "justify_items": null,
            "grid_row": null,
            "max_height": null,
            "align_content": null,
            "visibility": null,
            "align_self": null,
            "height": null,
            "min_height": null,
            "padding": null,
            "grid_auto_rows": null,
            "grid_gap": null,
            "max_width": null,
            "order": null,
            "_view_module_version": "1.2.0",
            "grid_template_areas": null,
            "object_position": null,
            "object_fit": null,
            "grid_auto_columns": null,
            "margin": null,
            "display": null,
            "left": null
          }
        },
        "a978578bcb3e4a90b68107e894de95eb": {
          "model_module": "@jupyter-widgets/controls",
          "model_name": "IntSliderModel",
          "state": {
            "_view_name": "IntSliderView",
            "style": "IPY_MODEL_ae8612cccac8410f854b4b984ac81afe",
            "_dom_classes": [],
            "description": "index",
            "step": 1,
            "_model_name": "IntSliderModel",
            "orientation": "horizontal",
            "max": 112,
            "_view_module": "@jupyter-widgets/controls",
            "_model_module_version": "1.5.0",
            "value": 50,
            "_view_count": null,
            "disabled": false,
            "_view_module_version": "1.5.0",
            "min": 0,
            "continuous_update": true,
            "readout_format": "d",
            "description_tooltip": null,
            "readout": true,
            "_model_module": "@jupyter-widgets/controls",
            "layout": "IPY_MODEL_2ed2714b1d664aacb99cce8947560d90"
          }
        },
        "02bfc6a115e548d8a4e7e2df7f99a157": {
          "model_module": "@jupyter-widgets/output",
          "model_name": "OutputModel",
          "state": {
            "_view_name": "OutputView",
            "msg_id": "",
            "_dom_classes": [],
            "_model_name": "OutputModel",
            "outputs": [
              {
                "output_type": "display_data",
                "metadata": {
                  "tags": []
                },
                "image/png": "iVBORw0KGgoAAAANSUhEUgAAAOcAAADnCAYAAADl9EEgAAAABHNCSVQICAgIfAhkiAAAAAlwSFlz\nAAALEgAACxIB0t1+/AAAADh0RVh0U29mdHdhcmUAbWF0cGxvdGxpYiB2ZXJzaW9uMy4xLjMsIGh0\ndHA6Ly9tYXRwbG90bGliLm9yZy+AADFEAAAEp0lEQVR4nO3d3W6bWBSA0TDq+78yczGKlHr8Cwfz\nHWetyzZpccTnvbGIvazr+gX0/HP2AQDXiROixAlR4oQocULUn3t/uSyLl3LhYOu6Ltf+3OSEKHFC\nlDghSpwQJU6IEidEiROixAlR4oQocUKUOCFKnBAlTogSJ0SJE6LECVHihChxQpQ4IUqcECVOiBIn\nRIkTosQJUeKEKHFClDghSpwQJU6IEidE3f0IQBrW9fEnMS7L1U+RY2LijHkmxL3fJ+Q5iDNia5Sj\n/i/B9rjmDHhnmOVj4G/iPMG6rn/FUJlaAm0R55t9B3AZ5LIsmUhpcM35JreivLQsy2kTzJNDi8n5\nBs+GCT+J80A/ry1fCfOMiD1x9FhrD1J8weeWW8f3aL2uP67ZifMAM7zqeS+sZ49/XVeBHkicg12e\n2LOcvHvuTJrlMc7GNedAM4X581j3TvoZNoUZiXOQGU/Qy5sh9v5bjCVOiBLnAKbGf/wcxhLnTk5I\njiLOHYT5f34m44jzQFtO1JEv0pxl9uOvEOdGTkCOJs4QwfOTODcYHdEnrLKXPu3xnEGcJ3MSc4s4\nN3j2trx7v+3xidPy0qc/vqO58X2jW+9Y8ChcJyzPEucO5RvbmZ+19s1+W9A2he3ECVHihChxnuC3\nrbZsI04O57pzG3GexPTkEXGeSKDcI06IEufJTE9uESeH8wS0jTgDPv3k9WrtNuKEKHFClDgjPn21\n5XXihChxQpQ4Q6y2/CTOGIHyTZxBewNdlkXkH0CcUVvjKkZZPKYZiDPslQl47WtFMTfvvjeBrW/D\nydxMzkmYir+PyTmRLUF+f4+bz+djcnIoE347k/OX+BmJKToHcf5Cl9PsqFhNzX2stRAlTg6ZcKbm\nftZavr6+7q+610Jz3Xo8cXLVnslnao5hrWUoYY4jTl52a6UV5ljWWp527zpTmOOJk4e8+HMOay13\nCfM84mQIEY8nToYR6Fji5CaxnUucDCXoccTJVXsiE+gY4oQocXII03M/cUKUOCFKnBzGaruPOCFK\nnFzlt0zOJ04OZbXdTpwQJU6IEic3ue48lzghSpwQJU6IEid3ue48jzghSpwQJU4estqeQ5w8ZU+g\nbuHbRpwQJU6eZr19L3FClDh5ien5PuLkZQJ9D3FClDjZxPQ8njghSpxs9uz0NGW3ESe7CO844oQo\ncUKUONnNansMcUKUOCFKnAxhtR1PnBAlTogSJ8NYbccSJ0SJk6FMz3HEyXACHUOcEPXn7APgM5me\n+5mcECVOiBInRIkTosQJUeKEKHFClDghSpwQJU6IEidEiROixAlR4oQocUKUOCFKnBAlTogSJ0SJ\nE6LECVHihChxQpQ4IUqcECVOiBInRIkTosQJUeKEKHFClDghSpwQJU6IEidEiROixAlR4oQocUKU\nOCFKnBAlTogSJ0SJE6LECVHihChxQpQ4IUqcECVOiBInRIkTosQJUeKEKHFClDghSpwQJU6IEidE\niROixAlR4oQocUKUOCFKnBAlTogSJ0SJE6LECVHihChxQpQ4IUqcECVOiBInRIkTosQJUcu6rmcf\nA3CFyQlR4oQocUKUOCFKnBAlToj6F3r+8wWi3I/jAAAAAElFTkSuQmCC\n",
                "text/plain": "<Figure size 432x288 with 1 Axes>"
              }
            ],
            "_view_module": "@jupyter-widgets/output",
            "_model_module_version": "1.0.0",
            "_view_count": null,
            "_view_module_version": "1.0.0",
            "layout": "IPY_MODEL_da585f13c3aa4e878f9342c5d67535b9",
            "_model_module": "@jupyter-widgets/output"
          }
        },
        "ae8612cccac8410f854b4b984ac81afe": {
          "model_module": "@jupyter-widgets/controls",
          "model_name": "SliderStyleModel",
          "state": {
            "_view_name": "StyleView",
            "handle_color": null,
            "_model_name": "SliderStyleModel",
            "description_width": "",
            "_view_module": "@jupyter-widgets/base",
            "_model_module_version": "1.5.0",
            "_view_count": null,
            "_view_module_version": "1.2.0",
            "_model_module": "@jupyter-widgets/controls"
          }
        },
        "2ed2714b1d664aacb99cce8947560d90": {
          "model_module": "@jupyter-widgets/base",
          "model_name": "LayoutModel",
          "state": {
            "_view_name": "LayoutView",
            "grid_template_rows": null,
            "right": null,
            "justify_content": null,
            "_view_module": "@jupyter-widgets/base",
            "overflow": null,
            "_model_module_version": "1.2.0",
            "_view_count": null,
            "flex_flow": null,
            "width": null,
            "min_width": null,
            "border": null,
            "align_items": null,
            "bottom": null,
            "_model_module": "@jupyter-widgets/base",
            "top": null,
            "grid_column": null,
            "overflow_y": null,
            "overflow_x": null,
            "grid_auto_flow": null,
            "grid_area": null,
            "grid_template_columns": null,
            "flex": null,
            "_model_name": "LayoutModel",
            "justify_items": null,
            "grid_row": null,
            "max_height": null,
            "align_content": null,
            "visibility": null,
            "align_self": null,
            "height": null,
            "min_height": null,
            "padding": null,
            "grid_auto_rows": null,
            "grid_gap": null,
            "max_width": null,
            "order": null,
            "_view_module_version": "1.2.0",
            "grid_template_areas": null,
            "object_position": null,
            "object_fit": null,
            "grid_auto_columns": null,
            "margin": null,
            "display": null,
            "left": null
          }
        },
        "ad96df027a4443ae9f45bdb9348b2219": {
          "model_module": "@jupyter-widgets/controls",
          "model_name": "VBoxModel",
          "state": {
            "_view_name": "VBoxView",
            "_dom_classes": [
              "widget-interact"
            ],
            "_model_name": "VBoxModel",
            "_view_module": "@jupyter-widgets/controls",
            "_model_module_version": "1.5.0",
            "_view_count": null,
            "_view_module_version": "1.5.0",
            "box_style": "",
            "layout": "IPY_MODEL_de72432e283e43f99b9e079a9b6591f8",
            "_model_module": "@jupyter-widgets/controls",
            "children": [
              "IPY_MODEL_753caf0dbe34490480d7109590d1365f",
              "IPY_MODEL_4c0502134fae4787b9d4aab84e183fc9"
            ]
          }
        },
        "de72432e283e43f99b9e079a9b6591f8": {
          "model_module": "@jupyter-widgets/base",
          "model_name": "LayoutModel",
          "state": {
            "_view_name": "LayoutView",
            "grid_template_rows": null,
            "right": null,
            "justify_content": null,
            "_view_module": "@jupyter-widgets/base",
            "overflow": null,
            "_model_module_version": "1.2.0",
            "_view_count": null,
            "flex_flow": null,
            "width": null,
            "min_width": null,
            "border": null,
            "align_items": null,
            "bottom": null,
            "_model_module": "@jupyter-widgets/base",
            "top": null,
            "grid_column": null,
            "overflow_y": null,
            "overflow_x": null,
            "grid_auto_flow": null,
            "grid_area": null,
            "grid_template_columns": null,
            "flex": null,
            "_model_name": "LayoutModel",
            "justify_items": null,
            "grid_row": null,
            "max_height": null,
            "align_content": null,
            "visibility": null,
            "align_self": null,
            "height": null,
            "min_height": null,
            "padding": null,
            "grid_auto_rows": null,
            "grid_gap": null,
            "max_width": null,
            "order": null,
            "_view_module_version": "1.2.0",
            "grid_template_areas": null,
            "object_position": null,
            "object_fit": null,
            "grid_auto_columns": null,
            "margin": null,
            "display": null,
            "left": null
          }
        },
        "753caf0dbe34490480d7109590d1365f": {
          "model_module": "@jupyter-widgets/controls",
          "model_name": "IntSliderModel",
          "state": {
            "_view_name": "IntSliderView",
            "style": "IPY_MODEL_efdb360fbefd477698b1d140d23792db",
            "_dom_classes": [],
            "description": "index",
            "step": 1,
            "_model_name": "IntSliderModel",
            "orientation": "horizontal",
            "max": 30,
            "_view_module": "@jupyter-widgets/controls",
            "_model_module_version": "1.5.0",
            "value": 30,
            "_view_count": null,
            "disabled": false,
            "_view_module_version": "1.5.0",
            "min": 0,
            "continuous_update": true,
            "readout_format": "d",
            "description_tooltip": null,
            "readout": true,
            "_model_module": "@jupyter-widgets/controls",
            "layout": "IPY_MODEL_43dd24f6992b44449e3a886bcf97ebbc"
          }
        },
        "4c0502134fae4787b9d4aab84e183fc9": {
          "model_module": "@jupyter-widgets/output",
          "model_name": "OutputModel",
          "state": {
            "_view_name": "OutputView",
            "msg_id": "",
            "_dom_classes": [],
            "_model_name": "OutputModel",
            "outputs": [
              {
                "output_type": "stream",
                "metadata": {
                  "tags": []
                },
                "text": "conv2d_265\n",
                "stream": "stdout"
              },
              {
                "output_type": "display_data",
                "metadata": {
                  "tags": []
                },
                "application/vnd.jupyter.widget-view+json": {
                  "model_id": "ebf35945f85d4787b379d13621bacc17",
                  "version_minor": 0,
                  "version_major": 2
                },
                "text/plain": "HBox(children=(IntProgress(value=0, max=1), HTML(value='')))"
              },
              {
                "output_type": "display_data",
                "metadata": {
                  "tags": []
                },
                "image/png": "iVBORw0KGgoAAAANSUhEUgAAAEwAAABMCAYAAADHl1ErAAAABHNCSVQICAgIfAhkiAAAAAlwSFlz\nAAALEgAACxIB0t1+/AAAADh0RVh0U29mdHdhcmUAbWF0cGxvdGxpYiB2ZXJzaW9uMy4xLjMsIGh0\ndHA6Ly9tYXRwbG90bGliLm9yZy+AADFEAAABsUlEQVR4nO3ZS46DMBBF0So+q8ggS2N/7IYl9AQJ\nqXcAyD1Cognp+CVgV9HvzPJRcK5MsImGEITiFbkH4A2DgRgMxGAgBgMxGKhC3qyq/2YNEkLQvec5\nw0AMBmIwEIOBGAzEYCDTweq6zj2EB9A6LJVXt5xUd5dISZieYc9M05Tt2C6DlWUpIYSXM/EMLoOt\npY5mLtg7AYZhOGEk+xQZ4Nmb709my9EXAvOb76Zpcg8hymVm2DzPUlXHrZLMz7BPlWWZ5DiXCZaK\nqWA5V/CxTAXzwFwwVX1rpnVdd8JoHpm6Sm4tY1sC/jXWVOswk3crFtsIMeHOZu6UjKGqMo7jr8ep\nuAwmku/mottga0WR7mu4DLY9Bed5TnZsl8H4o+/IZYKlmnVug+Xad7oNlguDgVwHW5+WbdumOabl\nzXesEILcbjfp+/7Iz9z9kbxMMJFjLwQu71bE4ubbMAYDMRiIwUAMBmIwEIOBGAzEYCAGAzEYiMFA\nDAZiMBCDgRgMxGAgBgMxGIjBQAwGQv81+haRrzMGYsz92QvQ/5LEUxLGYCAGAzEYiMFADAZiMBCD\ngRgM9APwMXDaom3gugAAAABJRU5ErkJggg==\n",
                "text/plain": "<Figure size 1440x216 with 1 Axes>"
              }
            ],
            "_view_module": "@jupyter-widgets/output",
            "_model_module_version": "1.0.0",
            "_view_count": null,
            "_view_module_version": "1.0.0",
            "layout": "IPY_MODEL_c5870b47e2ea409a82f7884a9aa35011",
            "_model_module": "@jupyter-widgets/output"
          }
        },
        "efdb360fbefd477698b1d140d23792db": {
          "model_module": "@jupyter-widgets/controls",
          "model_name": "SliderStyleModel",
          "state": {
            "_view_name": "StyleView",
            "handle_color": null,
            "_model_name": "SliderStyleModel",
            "description_width": "",
            "_view_module": "@jupyter-widgets/base",
            "_model_module_version": "1.5.0",
            "_view_count": null,
            "_view_module_version": "1.2.0",
            "_model_module": "@jupyter-widgets/controls"
          }
        },
        "43dd24f6992b44449e3a886bcf97ebbc": {
          "model_module": "@jupyter-widgets/base",
          "model_name": "LayoutModel",
          "state": {
            "_view_name": "LayoutView",
            "grid_template_rows": null,
            "right": null,
            "justify_content": null,
            "_view_module": "@jupyter-widgets/base",
            "overflow": null,
            "_model_module_version": "1.2.0",
            "_view_count": null,
            "flex_flow": null,
            "width": null,
            "min_width": null,
            "border": null,
            "align_items": null,
            "bottom": null,
            "_model_module": "@jupyter-widgets/base",
            "top": null,
            "grid_column": null,
            "overflow_y": null,
            "overflow_x": null,
            "grid_auto_flow": null,
            "grid_area": null,
            "grid_template_columns": null,
            "flex": null,
            "_model_name": "LayoutModel",
            "justify_items": null,
            "grid_row": null,
            "max_height": null,
            "align_content": null,
            "visibility": null,
            "align_self": null,
            "height": null,
            "min_height": null,
            "padding": null,
            "grid_auto_rows": null,
            "grid_gap": null,
            "max_width": null,
            "order": null,
            "_view_module_version": "1.2.0",
            "grid_template_areas": null,
            "object_position": null,
            "object_fit": null,
            "grid_auto_columns": null,
            "margin": null,
            "display": null,
            "left": null
          }
        },
        "28d04b6c4ee7498da1db32b0a539605d": {
          "model_module": "@jupyter-widgets/controls",
          "model_name": "HBoxModel",
          "state": {
            "_view_name": "HBoxView",
            "_dom_classes": [],
            "_model_name": "HBoxModel",
            "_view_module": "@jupyter-widgets/controls",
            "_model_module_version": "1.5.0",
            "_view_count": null,
            "_view_module_version": "1.5.0",
            "box_style": "",
            "layout": "IPY_MODEL_7aaaa84887ae42c7b552170ecc819070",
            "_model_module": "@jupyter-widgets/controls",
            "children": [
              "IPY_MODEL_3e8eb6061ece45e49d92db8b3cce97a6",
              "IPY_MODEL_aec876ae02af41c2ad03feb2a81e463a"
            ]
          }
        },
        "7aaaa84887ae42c7b552170ecc819070": {
          "model_module": "@jupyter-widgets/base",
          "model_name": "LayoutModel",
          "state": {
            "_view_name": "LayoutView",
            "grid_template_rows": null,
            "right": null,
            "justify_content": null,
            "_view_module": "@jupyter-widgets/base",
            "overflow": null,
            "_model_module_version": "1.2.0",
            "_view_count": null,
            "flex_flow": null,
            "width": null,
            "min_width": null,
            "border": null,
            "align_items": null,
            "bottom": null,
            "_model_module": "@jupyter-widgets/base",
            "top": null,
            "grid_column": null,
            "overflow_y": null,
            "overflow_x": null,
            "grid_auto_flow": null,
            "grid_area": null,
            "grid_template_columns": null,
            "flex": null,
            "_model_name": "LayoutModel",
            "justify_items": null,
            "grid_row": null,
            "max_height": null,
            "align_content": null,
            "visibility": null,
            "align_self": null,
            "height": null,
            "min_height": null,
            "padding": null,
            "grid_auto_rows": null,
            "grid_gap": null,
            "max_width": null,
            "order": null,
            "_view_module_version": "1.2.0",
            "grid_template_areas": null,
            "object_position": null,
            "object_fit": null,
            "grid_auto_columns": null,
            "margin": null,
            "display": null,
            "left": null
          }
        },
        "3e8eb6061ece45e49d92db8b3cce97a6": {
          "model_module": "@jupyter-widgets/controls",
          "model_name": "IntProgressModel",
          "state": {
            "_view_name": "ProgressView",
            "style": "IPY_MODEL_5af868a7dfec43339223b056677653c1",
            "_dom_classes": [],
            "description": "",
            "_model_name": "IntProgressModel",
            "bar_style": "success",
            "max": 32,
            "_view_module": "@jupyter-widgets/controls",
            "_model_module_version": "1.5.0",
            "value": 32,
            "_view_count": null,
            "_view_module_version": "1.5.0",
            "orientation": "horizontal",
            "min": 0,
            "description_tooltip": null,
            "_model_module": "@jupyter-widgets/controls",
            "layout": "IPY_MODEL_fe2485f8b6b543ec96c2b9ada7bc4ec6"
          }
        },
        "aec876ae02af41c2ad03feb2a81e463a": {
          "model_module": "@jupyter-widgets/controls",
          "model_name": "HTMLModel",
          "state": {
            "_view_name": "HTMLView",
            "style": "IPY_MODEL_b7295d9f35de4922b661d6c909028bbf",
            "_dom_classes": [],
            "description": "",
            "_model_name": "HTMLModel",
            "placeholder": "​",
            "_view_module": "@jupyter-widgets/controls",
            "_model_module_version": "1.5.0",
            "value": "100% 32/32 [00:00&lt;00:00, 61.76it/s]",
            "_view_count": null,
            "_view_module_version": "1.5.0",
            "description_tooltip": null,
            "_model_module": "@jupyter-widgets/controls",
            "layout": "IPY_MODEL_2e2a47d3fcf44807a2a1cfb5f7c2acf1"
          }
        },
        "5af868a7dfec43339223b056677653c1": {
          "model_module": "@jupyter-widgets/controls",
          "model_name": "ProgressStyleModel",
          "state": {
            "_view_name": "StyleView",
            "_model_name": "ProgressStyleModel",
            "description_width": "",
            "_view_module": "@jupyter-widgets/base",
            "_model_module_version": "1.5.0",
            "_view_count": null,
            "_view_module_version": "1.2.0",
            "bar_color": null,
            "_model_module": "@jupyter-widgets/controls"
          }
        },
        "fe2485f8b6b543ec96c2b9ada7bc4ec6": {
          "model_module": "@jupyter-widgets/base",
          "model_name": "LayoutModel",
          "state": {
            "_view_name": "LayoutView",
            "grid_template_rows": null,
            "right": null,
            "justify_content": null,
            "_view_module": "@jupyter-widgets/base",
            "overflow": null,
            "_model_module_version": "1.2.0",
            "_view_count": null,
            "flex_flow": null,
            "width": null,
            "min_width": null,
            "border": null,
            "align_items": null,
            "bottom": null,
            "_model_module": "@jupyter-widgets/base",
            "top": null,
            "grid_column": null,
            "overflow_y": null,
            "overflow_x": null,
            "grid_auto_flow": null,
            "grid_area": null,
            "grid_template_columns": null,
            "flex": null,
            "_model_name": "LayoutModel",
            "justify_items": null,
            "grid_row": null,
            "max_height": null,
            "align_content": null,
            "visibility": null,
            "align_self": null,
            "height": null,
            "min_height": null,
            "padding": null,
            "grid_auto_rows": null,
            "grid_gap": null,
            "max_width": null,
            "order": null,
            "_view_module_version": "1.2.0",
            "grid_template_areas": null,
            "object_position": null,
            "object_fit": null,
            "grid_auto_columns": null,
            "margin": null,
            "display": null,
            "left": null
          }
        },
        "b7295d9f35de4922b661d6c909028bbf": {
          "model_module": "@jupyter-widgets/controls",
          "model_name": "DescriptionStyleModel",
          "state": {
            "_view_name": "StyleView",
            "_model_name": "DescriptionStyleModel",
            "description_width": "",
            "_view_module": "@jupyter-widgets/base",
            "_model_module_version": "1.5.0",
            "_view_count": null,
            "_view_module_version": "1.2.0",
            "_model_module": "@jupyter-widgets/controls"
          }
        },
        "2e2a47d3fcf44807a2a1cfb5f7c2acf1": {
          "model_module": "@jupyter-widgets/base",
          "model_name": "LayoutModel",
          "state": {
            "_view_name": "LayoutView",
            "grid_template_rows": null,
            "right": null,
            "justify_content": null,
            "_view_module": "@jupyter-widgets/base",
            "overflow": null,
            "_model_module_version": "1.2.0",
            "_view_count": null,
            "flex_flow": null,
            "width": null,
            "min_width": null,
            "border": null,
            "align_items": null,
            "bottom": null,
            "_model_module": "@jupyter-widgets/base",
            "top": null,
            "grid_column": null,
            "overflow_y": null,
            "overflow_x": null,
            "grid_auto_flow": null,
            "grid_area": null,
            "grid_template_columns": null,
            "flex": null,
            "_model_name": "LayoutModel",
            "justify_items": null,
            "grid_row": null,
            "max_height": null,
            "align_content": null,
            "visibility": null,
            "align_self": null,
            "height": null,
            "min_height": null,
            "padding": null,
            "grid_auto_rows": null,
            "grid_gap": null,
            "max_width": null,
            "order": null,
            "_view_module_version": "1.2.0",
            "grid_template_areas": null,
            "object_position": null,
            "object_fit": null,
            "grid_auto_columns": null,
            "margin": null,
            "display": null,
            "left": null
          }
        },
        "4fcbafa527574833aa5b34dc280c1629": {
          "model_module": "@jupyter-widgets/controls",
          "model_name": "HBoxModel",
          "state": {
            "_view_name": "HBoxView",
            "_dom_classes": [],
            "_model_name": "HBoxModel",
            "_view_module": "@jupyter-widgets/controls",
            "_model_module_version": "1.5.0",
            "_view_count": null,
            "_view_module_version": "1.5.0",
            "box_style": "",
            "layout": "IPY_MODEL_7279b17482414eda97fb92d3b6d6f08c",
            "_model_module": "@jupyter-widgets/controls",
            "children": [
              "IPY_MODEL_a4712a897d4340cb88cb66e1c2251d82",
              "IPY_MODEL_8fbd2d8798b24e7f8c9ac2d318e9c6b0"
            ]
          }
        },
        "7279b17482414eda97fb92d3b6d6f08c": {
          "model_module": "@jupyter-widgets/base",
          "model_name": "LayoutModel",
          "state": {
            "_view_name": "LayoutView",
            "grid_template_rows": null,
            "right": null,
            "justify_content": null,
            "_view_module": "@jupyter-widgets/base",
            "overflow": null,
            "_model_module_version": "1.2.0",
            "_view_count": null,
            "flex_flow": null,
            "width": null,
            "min_width": null,
            "border": null,
            "align_items": null,
            "bottom": null,
            "_model_module": "@jupyter-widgets/base",
            "top": null,
            "grid_column": null,
            "overflow_y": null,
            "overflow_x": null,
            "grid_auto_flow": null,
            "grid_area": null,
            "grid_template_columns": null,
            "flex": null,
            "_model_name": "LayoutModel",
            "justify_items": null,
            "grid_row": null,
            "max_height": null,
            "align_content": null,
            "visibility": null,
            "align_self": null,
            "height": null,
            "min_height": null,
            "padding": null,
            "grid_auto_rows": null,
            "grid_gap": null,
            "max_width": null,
            "order": null,
            "_view_module_version": "1.2.0",
            "grid_template_areas": null,
            "object_position": null,
            "object_fit": null,
            "grid_auto_columns": null,
            "margin": null,
            "display": null,
            "left": null
          }
        },
        "a4712a897d4340cb88cb66e1c2251d82": {
          "model_module": "@jupyter-widgets/controls",
          "model_name": "IntProgressModel",
          "state": {
            "_view_name": "ProgressView",
            "style": "IPY_MODEL_63c33478d4584ad8838f16ef12fe07e7",
            "_dom_classes": [],
            "description": "",
            "_model_name": "IntProgressModel",
            "bar_style": "success",
            "max": 32,
            "_view_module": "@jupyter-widgets/controls",
            "_model_module_version": "1.5.0",
            "value": 32,
            "_view_count": null,
            "_view_module_version": "1.5.0",
            "orientation": "horizontal",
            "min": 0,
            "description_tooltip": null,
            "_model_module": "@jupyter-widgets/controls",
            "layout": "IPY_MODEL_11464f7aa8c34d6593260c475e40972d"
          }
        },
        "8fbd2d8798b24e7f8c9ac2d318e9c6b0": {
          "model_module": "@jupyter-widgets/controls",
          "model_name": "HTMLModel",
          "state": {
            "_view_name": "HTMLView",
            "style": "IPY_MODEL_629a58399acc4f3c9a1dfc354087736e",
            "_dom_classes": [],
            "description": "",
            "_model_name": "HTMLModel",
            "placeholder": "​",
            "_view_module": "@jupyter-widgets/controls",
            "_model_module_version": "1.5.0",
            "value": "100% 32/32 [00:00&lt;00:00, 35.11it/s]",
            "_view_count": null,
            "_view_module_version": "1.5.0",
            "description_tooltip": null,
            "_model_module": "@jupyter-widgets/controls",
            "layout": "IPY_MODEL_5e7093adffb149e98b16f7b6072251ab"
          }
        },
        "63c33478d4584ad8838f16ef12fe07e7": {
          "model_module": "@jupyter-widgets/controls",
          "model_name": "ProgressStyleModel",
          "state": {
            "_view_name": "StyleView",
            "_model_name": "ProgressStyleModel",
            "description_width": "",
            "_view_module": "@jupyter-widgets/base",
            "_model_module_version": "1.5.0",
            "_view_count": null,
            "_view_module_version": "1.2.0",
            "bar_color": null,
            "_model_module": "@jupyter-widgets/controls"
          }
        },
        "11464f7aa8c34d6593260c475e40972d": {
          "model_module": "@jupyter-widgets/base",
          "model_name": "LayoutModel",
          "state": {
            "_view_name": "LayoutView",
            "grid_template_rows": null,
            "right": null,
            "justify_content": null,
            "_view_module": "@jupyter-widgets/base",
            "overflow": null,
            "_model_module_version": "1.2.0",
            "_view_count": null,
            "flex_flow": null,
            "width": null,
            "min_width": null,
            "border": null,
            "align_items": null,
            "bottom": null,
            "_model_module": "@jupyter-widgets/base",
            "top": null,
            "grid_column": null,
            "overflow_y": null,
            "overflow_x": null,
            "grid_auto_flow": null,
            "grid_area": null,
            "grid_template_columns": null,
            "flex": null,
            "_model_name": "LayoutModel",
            "justify_items": null,
            "grid_row": null,
            "max_height": null,
            "align_content": null,
            "visibility": null,
            "align_self": null,
            "height": null,
            "min_height": null,
            "padding": null,
            "grid_auto_rows": null,
            "grid_gap": null,
            "max_width": null,
            "order": null,
            "_view_module_version": "1.2.0",
            "grid_template_areas": null,
            "object_position": null,
            "object_fit": null,
            "grid_auto_columns": null,
            "margin": null,
            "display": null,
            "left": null
          }
        },
        "629a58399acc4f3c9a1dfc354087736e": {
          "model_module": "@jupyter-widgets/controls",
          "model_name": "DescriptionStyleModel",
          "state": {
            "_view_name": "StyleView",
            "_model_name": "DescriptionStyleModel",
            "description_width": "",
            "_view_module": "@jupyter-widgets/base",
            "_model_module_version": "1.5.0",
            "_view_count": null,
            "_view_module_version": "1.2.0",
            "_model_module": "@jupyter-widgets/controls"
          }
        },
        "5e7093adffb149e98b16f7b6072251ab": {
          "model_module": "@jupyter-widgets/base",
          "model_name": "LayoutModel",
          "state": {
            "_view_name": "LayoutView",
            "grid_template_rows": null,
            "right": null,
            "justify_content": null,
            "_view_module": "@jupyter-widgets/base",
            "overflow": null,
            "_model_module_version": "1.2.0",
            "_view_count": null,
            "flex_flow": null,
            "width": null,
            "min_width": null,
            "border": null,
            "align_items": null,
            "bottom": null,
            "_model_module": "@jupyter-widgets/base",
            "top": null,
            "grid_column": null,
            "overflow_y": null,
            "overflow_x": null,
            "grid_auto_flow": null,
            "grid_area": null,
            "grid_template_columns": null,
            "flex": null,
            "_model_name": "LayoutModel",
            "justify_items": null,
            "grid_row": null,
            "max_height": null,
            "align_content": null,
            "visibility": null,
            "align_self": null,
            "height": null,
            "min_height": null,
            "padding": null,
            "grid_auto_rows": null,
            "grid_gap": null,
            "max_width": null,
            "order": null,
            "_view_module_version": "1.2.0",
            "grid_template_areas": null,
            "object_position": null,
            "object_fit": null,
            "grid_auto_columns": null,
            "margin": null,
            "display": null,
            "left": null
          }
        },
        "e50ff33d4f704e08865e76b29904a208": {
          "model_module": "@jupyter-widgets/controls",
          "model_name": "HBoxModel",
          "state": {
            "_view_name": "HBoxView",
            "_dom_classes": [],
            "_model_name": "HBoxModel",
            "_view_module": "@jupyter-widgets/controls",
            "_model_module_version": "1.5.0",
            "_view_count": null,
            "_view_module_version": "1.5.0",
            "box_style": "",
            "layout": "IPY_MODEL_046e96b2982846438731b803db132b44",
            "_model_module": "@jupyter-widgets/controls",
            "children": [
              "IPY_MODEL_f5e8d0ea0c4846aaaff32f0521d3db66",
              "IPY_MODEL_48096a6748f842cc9683ab22384acfc6"
            ]
          }
        },
        "046e96b2982846438731b803db132b44": {
          "model_module": "@jupyter-widgets/base",
          "model_name": "LayoutModel",
          "state": {
            "_view_name": "LayoutView",
            "grid_template_rows": null,
            "right": null,
            "justify_content": null,
            "_view_module": "@jupyter-widgets/base",
            "overflow": null,
            "_model_module_version": "1.2.0",
            "_view_count": null,
            "flex_flow": null,
            "width": null,
            "min_width": null,
            "border": null,
            "align_items": null,
            "bottom": null,
            "_model_module": "@jupyter-widgets/base",
            "top": null,
            "grid_column": null,
            "overflow_y": null,
            "overflow_x": null,
            "grid_auto_flow": null,
            "grid_area": null,
            "grid_template_columns": null,
            "flex": null,
            "_model_name": "LayoutModel",
            "justify_items": null,
            "grid_row": null,
            "max_height": null,
            "align_content": null,
            "visibility": null,
            "align_self": null,
            "height": null,
            "min_height": null,
            "padding": null,
            "grid_auto_rows": null,
            "grid_gap": null,
            "max_width": null,
            "order": null,
            "_view_module_version": "1.2.0",
            "grid_template_areas": null,
            "object_position": null,
            "object_fit": null,
            "grid_auto_columns": null,
            "margin": null,
            "display": null,
            "left": null
          }
        },
        "f5e8d0ea0c4846aaaff32f0521d3db66": {
          "model_module": "@jupyter-widgets/controls",
          "model_name": "IntProgressModel",
          "state": {
            "_view_name": "ProgressView",
            "style": "IPY_MODEL_45183a63a5314bfb8dcc06d0cae6b0b4",
            "_dom_classes": [],
            "description": "",
            "_model_name": "IntProgressModel",
            "bar_style": "success",
            "max": 1,
            "_view_module": "@jupyter-widgets/controls",
            "_model_module_version": "1.5.0",
            "value": 1,
            "_view_count": null,
            "_view_module_version": "1.5.0",
            "orientation": "horizontal",
            "min": 0,
            "description_tooltip": null,
            "_model_module": "@jupyter-widgets/controls",
            "layout": "IPY_MODEL_3f563d23ef3d4f2799fbed6287154c80"
          }
        },
        "48096a6748f842cc9683ab22384acfc6": {
          "model_module": "@jupyter-widgets/controls",
          "model_name": "HTMLModel",
          "state": {
            "_view_name": "HTMLView",
            "style": "IPY_MODEL_e98b9605143b44f1ae06004bdbbbb8d6",
            "_dom_classes": [],
            "description": "",
            "_model_name": "HTMLModel",
            "placeholder": "​",
            "_view_module": "@jupyter-widgets/controls",
            "_model_module_version": "1.5.0",
            "value": "100% 1/1 [00:00&lt;00:00, 22.68it/s]",
            "_view_count": null,
            "_view_module_version": "1.5.0",
            "description_tooltip": null,
            "_model_module": "@jupyter-widgets/controls",
            "layout": "IPY_MODEL_e5e07f0680aa42c8a517a6f6f5de45a0"
          }
        },
        "45183a63a5314bfb8dcc06d0cae6b0b4": {
          "model_module": "@jupyter-widgets/controls",
          "model_name": "ProgressStyleModel",
          "state": {
            "_view_name": "StyleView",
            "_model_name": "ProgressStyleModel",
            "description_width": "",
            "_view_module": "@jupyter-widgets/base",
            "_model_module_version": "1.5.0",
            "_view_count": null,
            "_view_module_version": "1.2.0",
            "bar_color": null,
            "_model_module": "@jupyter-widgets/controls"
          }
        },
        "3f563d23ef3d4f2799fbed6287154c80": {
          "model_module": "@jupyter-widgets/base",
          "model_name": "LayoutModel",
          "state": {
            "_view_name": "LayoutView",
            "grid_template_rows": null,
            "right": null,
            "justify_content": null,
            "_view_module": "@jupyter-widgets/base",
            "overflow": null,
            "_model_module_version": "1.2.0",
            "_view_count": null,
            "flex_flow": null,
            "width": null,
            "min_width": null,
            "border": null,
            "align_items": null,
            "bottom": null,
            "_model_module": "@jupyter-widgets/base",
            "top": null,
            "grid_column": null,
            "overflow_y": null,
            "overflow_x": null,
            "grid_auto_flow": null,
            "grid_area": null,
            "grid_template_columns": null,
            "flex": null,
            "_model_name": "LayoutModel",
            "justify_items": null,
            "grid_row": null,
            "max_height": null,
            "align_content": null,
            "visibility": null,
            "align_self": null,
            "height": null,
            "min_height": null,
            "padding": null,
            "grid_auto_rows": null,
            "grid_gap": null,
            "max_width": null,
            "order": null,
            "_view_module_version": "1.2.0",
            "grid_template_areas": null,
            "object_position": null,
            "object_fit": null,
            "grid_auto_columns": null,
            "margin": null,
            "display": null,
            "left": null
          }
        },
        "e98b9605143b44f1ae06004bdbbbb8d6": {
          "model_module": "@jupyter-widgets/controls",
          "model_name": "DescriptionStyleModel",
          "state": {
            "_view_name": "StyleView",
            "_model_name": "DescriptionStyleModel",
            "description_width": "",
            "_view_module": "@jupyter-widgets/base",
            "_model_module_version": "1.5.0",
            "_view_count": null,
            "_view_module_version": "1.2.0",
            "_model_module": "@jupyter-widgets/controls"
          }
        },
        "e5e07f0680aa42c8a517a6f6f5de45a0": {
          "model_module": "@jupyter-widgets/base",
          "model_name": "LayoutModel",
          "state": {
            "_view_name": "LayoutView",
            "grid_template_rows": null,
            "right": null,
            "justify_content": null,
            "_view_module": "@jupyter-widgets/base",
            "overflow": null,
            "_model_module_version": "1.2.0",
            "_view_count": null,
            "flex_flow": null,
            "width": null,
            "min_width": null,
            "border": null,
            "align_items": null,
            "bottom": null,
            "_model_module": "@jupyter-widgets/base",
            "top": null,
            "grid_column": null,
            "overflow_y": null,
            "overflow_x": null,
            "grid_auto_flow": null,
            "grid_area": null,
            "grid_template_columns": null,
            "flex": null,
            "_model_name": "LayoutModel",
            "justify_items": null,
            "grid_row": null,
            "max_height": null,
            "align_content": null,
            "visibility": null,
            "align_self": null,
            "height": null,
            "min_height": null,
            "padding": null,
            "grid_auto_rows": null,
            "grid_gap": null,
            "max_width": null,
            "order": null,
            "_view_module_version": "1.2.0",
            "grid_template_areas": null,
            "object_position": null,
            "object_fit": null,
            "grid_auto_columns": null,
            "margin": null,
            "display": null,
            "left": null
          }
        },
        "6b45d7c95ff44953af1469fcddf02ae5": {
          "model_module": "@jupyter-widgets/controls",
          "model_name": "HBoxModel",
          "state": {
            "_view_name": "HBoxView",
            "_dom_classes": [],
            "_model_name": "HBoxModel",
            "_view_module": "@jupyter-widgets/controls",
            "_model_module_version": "1.5.0",
            "_view_count": null,
            "_view_module_version": "1.5.0",
            "box_style": "",
            "layout": "IPY_MODEL_9abb4b7f1f0c46eead2b1f8cb2d14f84",
            "_model_module": "@jupyter-widgets/controls",
            "children": [
              "IPY_MODEL_d93c741c1678452cbd89f5bf10bea7e7",
              "IPY_MODEL_f61ce37cedc04260976d405d2865b259"
            ]
          }
        },
        "9abb4b7f1f0c46eead2b1f8cb2d14f84": {
          "model_module": "@jupyter-widgets/base",
          "model_name": "LayoutModel",
          "state": {
            "_view_name": "LayoutView",
            "grid_template_rows": null,
            "right": null,
            "justify_content": null,
            "_view_module": "@jupyter-widgets/base",
            "overflow": null,
            "_model_module_version": "1.2.0",
            "_view_count": null,
            "flex_flow": null,
            "width": null,
            "min_width": null,
            "border": null,
            "align_items": null,
            "bottom": null,
            "_model_module": "@jupyter-widgets/base",
            "top": null,
            "grid_column": null,
            "overflow_y": null,
            "overflow_x": null,
            "grid_auto_flow": null,
            "grid_area": null,
            "grid_template_columns": null,
            "flex": null,
            "_model_name": "LayoutModel",
            "justify_items": null,
            "grid_row": null,
            "max_height": null,
            "align_content": null,
            "visibility": null,
            "align_self": null,
            "height": null,
            "min_height": null,
            "padding": null,
            "grid_auto_rows": null,
            "grid_gap": null,
            "max_width": null,
            "order": null,
            "_view_module_version": "1.2.0",
            "grid_template_areas": null,
            "object_position": null,
            "object_fit": null,
            "grid_auto_columns": null,
            "margin": null,
            "display": null,
            "left": null
          }
        },
        "d93c741c1678452cbd89f5bf10bea7e7": {
          "model_module": "@jupyter-widgets/controls",
          "model_name": "IntProgressModel",
          "state": {
            "_view_name": "ProgressView",
            "style": "IPY_MODEL_29f36ce5b8ac4fc48c82777b91c1d1ab",
            "_dom_classes": [],
            "description": "",
            "_model_name": "IntProgressModel",
            "bar_style": "success",
            "max": 32,
            "_view_module": "@jupyter-widgets/controls",
            "_model_module_version": "1.5.0",
            "value": 32,
            "_view_count": null,
            "_view_module_version": "1.5.0",
            "orientation": "horizontal",
            "min": 0,
            "description_tooltip": null,
            "_model_module": "@jupyter-widgets/controls",
            "layout": "IPY_MODEL_3aee5f7df7ec4b7da7aeaf9b488e2841"
          }
        },
        "f61ce37cedc04260976d405d2865b259": {
          "model_module": "@jupyter-widgets/controls",
          "model_name": "HTMLModel",
          "state": {
            "_view_name": "HTMLView",
            "style": "IPY_MODEL_58f43c7360fa448aa7d62a91529decfa",
            "_dom_classes": [],
            "description": "",
            "_model_name": "HTMLModel",
            "placeholder": "​",
            "_view_module": "@jupyter-widgets/controls",
            "_model_module_version": "1.5.0",
            "value": "100% 32/32 [00:00&lt;00:00, 61.53it/s]",
            "_view_count": null,
            "_view_module_version": "1.5.0",
            "description_tooltip": null,
            "_model_module": "@jupyter-widgets/controls",
            "layout": "IPY_MODEL_2c6f197f2c9e4bc087fae69e01862a4a"
          }
        },
        "29f36ce5b8ac4fc48c82777b91c1d1ab": {
          "model_module": "@jupyter-widgets/controls",
          "model_name": "ProgressStyleModel",
          "state": {
            "_view_name": "StyleView",
            "_model_name": "ProgressStyleModel",
            "description_width": "",
            "_view_module": "@jupyter-widgets/base",
            "_model_module_version": "1.5.0",
            "_view_count": null,
            "_view_module_version": "1.2.0",
            "bar_color": null,
            "_model_module": "@jupyter-widgets/controls"
          }
        },
        "3aee5f7df7ec4b7da7aeaf9b488e2841": {
          "model_module": "@jupyter-widgets/base",
          "model_name": "LayoutModel",
          "state": {
            "_view_name": "LayoutView",
            "grid_template_rows": null,
            "right": null,
            "justify_content": null,
            "_view_module": "@jupyter-widgets/base",
            "overflow": null,
            "_model_module_version": "1.2.0",
            "_view_count": null,
            "flex_flow": null,
            "width": null,
            "min_width": null,
            "border": null,
            "align_items": null,
            "bottom": null,
            "_model_module": "@jupyter-widgets/base",
            "top": null,
            "grid_column": null,
            "overflow_y": null,
            "overflow_x": null,
            "grid_auto_flow": null,
            "grid_area": null,
            "grid_template_columns": null,
            "flex": null,
            "_model_name": "LayoutModel",
            "justify_items": null,
            "grid_row": null,
            "max_height": null,
            "align_content": null,
            "visibility": null,
            "align_self": null,
            "height": null,
            "min_height": null,
            "padding": null,
            "grid_auto_rows": null,
            "grid_gap": null,
            "max_width": null,
            "order": null,
            "_view_module_version": "1.2.0",
            "grid_template_areas": null,
            "object_position": null,
            "object_fit": null,
            "grid_auto_columns": null,
            "margin": null,
            "display": null,
            "left": null
          }
        },
        "58f43c7360fa448aa7d62a91529decfa": {
          "model_module": "@jupyter-widgets/controls",
          "model_name": "DescriptionStyleModel",
          "state": {
            "_view_name": "StyleView",
            "_model_name": "DescriptionStyleModel",
            "description_width": "",
            "_view_module": "@jupyter-widgets/base",
            "_model_module_version": "1.5.0",
            "_view_count": null,
            "_view_module_version": "1.2.0",
            "_model_module": "@jupyter-widgets/controls"
          }
        },
        "2c6f197f2c9e4bc087fae69e01862a4a": {
          "model_module": "@jupyter-widgets/base",
          "model_name": "LayoutModel",
          "state": {
            "_view_name": "LayoutView",
            "grid_template_rows": null,
            "right": null,
            "justify_content": null,
            "_view_module": "@jupyter-widgets/base",
            "overflow": null,
            "_model_module_version": "1.2.0",
            "_view_count": null,
            "flex_flow": null,
            "width": null,
            "min_width": null,
            "border": null,
            "align_items": null,
            "bottom": null,
            "_model_module": "@jupyter-widgets/base",
            "top": null,
            "grid_column": null,
            "overflow_y": null,
            "overflow_x": null,
            "grid_auto_flow": null,
            "grid_area": null,
            "grid_template_columns": null,
            "flex": null,
            "_model_name": "LayoutModel",
            "justify_items": null,
            "grid_row": null,
            "max_height": null,
            "align_content": null,
            "visibility": null,
            "align_self": null,
            "height": null,
            "min_height": null,
            "padding": null,
            "grid_auto_rows": null,
            "grid_gap": null,
            "max_width": null,
            "order": null,
            "_view_module_version": "1.2.0",
            "grid_template_areas": null,
            "object_position": null,
            "object_fit": null,
            "grid_auto_columns": null,
            "margin": null,
            "display": null,
            "left": null
          }
        },
        "77dcd6344c8546438e68271316ee1ad5": {
          "model_module": "@jupyter-widgets/controls",
          "model_name": "HBoxModel",
          "state": {
            "_view_name": "HBoxView",
            "_dom_classes": [],
            "_model_name": "HBoxModel",
            "_view_module": "@jupyter-widgets/controls",
            "_model_module_version": "1.5.0",
            "_view_count": null,
            "_view_module_version": "1.5.0",
            "box_style": "",
            "layout": "IPY_MODEL_3ee1f09918264507a5af1aa49cba962c",
            "_model_module": "@jupyter-widgets/controls",
            "children": [
              "IPY_MODEL_42d476ef6e4b414bb0e7cd059c67be37",
              "IPY_MODEL_ac61c90528754007bd0fb169d555386a"
            ]
          }
        },
        "3ee1f09918264507a5af1aa49cba962c": {
          "model_module": "@jupyter-widgets/base",
          "model_name": "LayoutModel",
          "state": {
            "_view_name": "LayoutView",
            "grid_template_rows": null,
            "right": null,
            "justify_content": null,
            "_view_module": "@jupyter-widgets/base",
            "overflow": null,
            "_model_module_version": "1.2.0",
            "_view_count": null,
            "flex_flow": null,
            "width": null,
            "min_width": null,
            "border": null,
            "align_items": null,
            "bottom": null,
            "_model_module": "@jupyter-widgets/base",
            "top": null,
            "grid_column": null,
            "overflow_y": null,
            "overflow_x": null,
            "grid_auto_flow": null,
            "grid_area": null,
            "grid_template_columns": null,
            "flex": null,
            "_model_name": "LayoutModel",
            "justify_items": null,
            "grid_row": null,
            "max_height": null,
            "align_content": null,
            "visibility": null,
            "align_self": null,
            "height": null,
            "min_height": null,
            "padding": null,
            "grid_auto_rows": null,
            "grid_gap": null,
            "max_width": null,
            "order": null,
            "_view_module_version": "1.2.0",
            "grid_template_areas": null,
            "object_position": null,
            "object_fit": null,
            "grid_auto_columns": null,
            "margin": null,
            "display": null,
            "left": null
          }
        },
        "42d476ef6e4b414bb0e7cd059c67be37": {
          "model_module": "@jupyter-widgets/controls",
          "model_name": "IntProgressModel",
          "state": {
            "_view_name": "ProgressView",
            "style": "IPY_MODEL_b798606efbdd4119929f8dff353d636a",
            "_dom_classes": [],
            "description": "",
            "_model_name": "IntProgressModel",
            "bar_style": "success",
            "max": 32,
            "_view_module": "@jupyter-widgets/controls",
            "_model_module_version": "1.5.0",
            "value": 32,
            "_view_count": null,
            "_view_module_version": "1.5.0",
            "orientation": "horizontal",
            "min": 0,
            "description_tooltip": null,
            "_model_module": "@jupyter-widgets/controls",
            "layout": "IPY_MODEL_c3e53eff15e745e2bed95c1f38aa03be"
          }
        },
        "ac61c90528754007bd0fb169d555386a": {
          "model_module": "@jupyter-widgets/controls",
          "model_name": "HTMLModel",
          "state": {
            "_view_name": "HTMLView",
            "style": "IPY_MODEL_12eab7d8596c483593403729aa5fbee9",
            "_dom_classes": [],
            "description": "",
            "_model_name": "HTMLModel",
            "placeholder": "​",
            "_view_module": "@jupyter-widgets/controls",
            "_model_module_version": "1.5.0",
            "value": "100% 32/32 [00:00&lt;00:00, 63.71it/s]",
            "_view_count": null,
            "_view_module_version": "1.5.0",
            "description_tooltip": null,
            "_model_module": "@jupyter-widgets/controls",
            "layout": "IPY_MODEL_fbf2974682844c8c8259f04a0e7e3839"
          }
        },
        "b798606efbdd4119929f8dff353d636a": {
          "model_module": "@jupyter-widgets/controls",
          "model_name": "ProgressStyleModel",
          "state": {
            "_view_name": "StyleView",
            "_model_name": "ProgressStyleModel",
            "description_width": "",
            "_view_module": "@jupyter-widgets/base",
            "_model_module_version": "1.5.0",
            "_view_count": null,
            "_view_module_version": "1.2.0",
            "bar_color": null,
            "_model_module": "@jupyter-widgets/controls"
          }
        },
        "c3e53eff15e745e2bed95c1f38aa03be": {
          "model_module": "@jupyter-widgets/base",
          "model_name": "LayoutModel",
          "state": {
            "_view_name": "LayoutView",
            "grid_template_rows": null,
            "right": null,
            "justify_content": null,
            "_view_module": "@jupyter-widgets/base",
            "overflow": null,
            "_model_module_version": "1.2.0",
            "_view_count": null,
            "flex_flow": null,
            "width": null,
            "min_width": null,
            "border": null,
            "align_items": null,
            "bottom": null,
            "_model_module": "@jupyter-widgets/base",
            "top": null,
            "grid_column": null,
            "overflow_y": null,
            "overflow_x": null,
            "grid_auto_flow": null,
            "grid_area": null,
            "grid_template_columns": null,
            "flex": null,
            "_model_name": "LayoutModel",
            "justify_items": null,
            "grid_row": null,
            "max_height": null,
            "align_content": null,
            "visibility": null,
            "align_self": null,
            "height": null,
            "min_height": null,
            "padding": null,
            "grid_auto_rows": null,
            "grid_gap": null,
            "max_width": null,
            "order": null,
            "_view_module_version": "1.2.0",
            "grid_template_areas": null,
            "object_position": null,
            "object_fit": null,
            "grid_auto_columns": null,
            "margin": null,
            "display": null,
            "left": null
          }
        },
        "12eab7d8596c483593403729aa5fbee9": {
          "model_module": "@jupyter-widgets/controls",
          "model_name": "DescriptionStyleModel",
          "state": {
            "_view_name": "StyleView",
            "_model_name": "DescriptionStyleModel",
            "description_width": "",
            "_view_module": "@jupyter-widgets/base",
            "_model_module_version": "1.5.0",
            "_view_count": null,
            "_view_module_version": "1.2.0",
            "_model_module": "@jupyter-widgets/controls"
          }
        },
        "fbf2974682844c8c8259f04a0e7e3839": {
          "model_module": "@jupyter-widgets/base",
          "model_name": "LayoutModel",
          "state": {
            "_view_name": "LayoutView",
            "grid_template_rows": null,
            "right": null,
            "justify_content": null,
            "_view_module": "@jupyter-widgets/base",
            "overflow": null,
            "_model_module_version": "1.2.0",
            "_view_count": null,
            "flex_flow": null,
            "width": null,
            "min_width": null,
            "border": null,
            "align_items": null,
            "bottom": null,
            "_model_module": "@jupyter-widgets/base",
            "top": null,
            "grid_column": null,
            "overflow_y": null,
            "overflow_x": null,
            "grid_auto_flow": null,
            "grid_area": null,
            "grid_template_columns": null,
            "flex": null,
            "_model_name": "LayoutModel",
            "justify_items": null,
            "grid_row": null,
            "max_height": null,
            "align_content": null,
            "visibility": null,
            "align_self": null,
            "height": null,
            "min_height": null,
            "padding": null,
            "grid_auto_rows": null,
            "grid_gap": null,
            "max_width": null,
            "order": null,
            "_view_module_version": "1.2.0",
            "grid_template_areas": null,
            "object_position": null,
            "object_fit": null,
            "grid_auto_columns": null,
            "margin": null,
            "display": null,
            "left": null
          }
        },
        "038a71ac0aa247b3b1d8ad94333993f0": {
          "model_module": "@jupyter-widgets/controls",
          "model_name": "HBoxModel",
          "state": {
            "_view_name": "HBoxView",
            "_dom_classes": [],
            "_model_name": "HBoxModel",
            "_view_module": "@jupyter-widgets/controls",
            "_model_module_version": "1.5.0",
            "_view_count": null,
            "_view_module_version": "1.5.0",
            "box_style": "",
            "layout": "IPY_MODEL_fff975c8f89f40d69fd1d551d2695c37",
            "_model_module": "@jupyter-widgets/controls",
            "children": [
              "IPY_MODEL_39b25cb5cbb84444afd699cdfa79175a",
              "IPY_MODEL_1c839ec4c5e642e5b59c09ed2a57eb3f"
            ]
          }
        },
        "fff975c8f89f40d69fd1d551d2695c37": {
          "model_module": "@jupyter-widgets/base",
          "model_name": "LayoutModel",
          "state": {
            "_view_name": "LayoutView",
            "grid_template_rows": null,
            "right": null,
            "justify_content": null,
            "_view_module": "@jupyter-widgets/base",
            "overflow": null,
            "_model_module_version": "1.2.0",
            "_view_count": null,
            "flex_flow": null,
            "width": null,
            "min_width": null,
            "border": null,
            "align_items": null,
            "bottom": null,
            "_model_module": "@jupyter-widgets/base",
            "top": null,
            "grid_column": null,
            "overflow_y": null,
            "overflow_x": null,
            "grid_auto_flow": null,
            "grid_area": null,
            "grid_template_columns": null,
            "flex": null,
            "_model_name": "LayoutModel",
            "justify_items": null,
            "grid_row": null,
            "max_height": null,
            "align_content": null,
            "visibility": null,
            "align_self": null,
            "height": null,
            "min_height": null,
            "padding": null,
            "grid_auto_rows": null,
            "grid_gap": null,
            "max_width": null,
            "order": null,
            "_view_module_version": "1.2.0",
            "grid_template_areas": null,
            "object_position": null,
            "object_fit": null,
            "grid_auto_columns": null,
            "margin": null,
            "display": null,
            "left": null
          }
        },
        "39b25cb5cbb84444afd699cdfa79175a": {
          "model_module": "@jupyter-widgets/controls",
          "model_name": "IntProgressModel",
          "state": {
            "_view_name": "ProgressView",
            "style": "IPY_MODEL_ea99b38bdcdc42f8bf732e67430e3e59",
            "_dom_classes": [],
            "description": "",
            "_model_name": "IntProgressModel",
            "bar_style": "success",
            "max": 32,
            "_view_module": "@jupyter-widgets/controls",
            "_model_module_version": "1.5.0",
            "value": 32,
            "_view_count": null,
            "_view_module_version": "1.5.0",
            "orientation": "horizontal",
            "min": 0,
            "description_tooltip": null,
            "_model_module": "@jupyter-widgets/controls",
            "layout": "IPY_MODEL_d2f4cb66f80a47b895a0414987352d8a"
          }
        },
        "1c839ec4c5e642e5b59c09ed2a57eb3f": {
          "model_module": "@jupyter-widgets/controls",
          "model_name": "HTMLModel",
          "state": {
            "_view_name": "HTMLView",
            "style": "IPY_MODEL_f484ae2028434c83a603b4bb175dfd27",
            "_dom_classes": [],
            "description": "",
            "_model_name": "HTMLModel",
            "placeholder": "​",
            "_view_module": "@jupyter-widgets/controls",
            "_model_module_version": "1.5.0",
            "value": "100% 32/32 [00:00&lt;00:00, 61.96it/s]",
            "_view_count": null,
            "_view_module_version": "1.5.0",
            "description_tooltip": null,
            "_model_module": "@jupyter-widgets/controls",
            "layout": "IPY_MODEL_85c20271e14e4b8298559409dda3033c"
          }
        },
        "ea99b38bdcdc42f8bf732e67430e3e59": {
          "model_module": "@jupyter-widgets/controls",
          "model_name": "ProgressStyleModel",
          "state": {
            "_view_name": "StyleView",
            "_model_name": "ProgressStyleModel",
            "description_width": "",
            "_view_module": "@jupyter-widgets/base",
            "_model_module_version": "1.5.0",
            "_view_count": null,
            "_view_module_version": "1.2.0",
            "bar_color": null,
            "_model_module": "@jupyter-widgets/controls"
          }
        },
        "d2f4cb66f80a47b895a0414987352d8a": {
          "model_module": "@jupyter-widgets/base",
          "model_name": "LayoutModel",
          "state": {
            "_view_name": "LayoutView",
            "grid_template_rows": null,
            "right": null,
            "justify_content": null,
            "_view_module": "@jupyter-widgets/base",
            "overflow": null,
            "_model_module_version": "1.2.0",
            "_view_count": null,
            "flex_flow": null,
            "width": null,
            "min_width": null,
            "border": null,
            "align_items": null,
            "bottom": null,
            "_model_module": "@jupyter-widgets/base",
            "top": null,
            "grid_column": null,
            "overflow_y": null,
            "overflow_x": null,
            "grid_auto_flow": null,
            "grid_area": null,
            "grid_template_columns": null,
            "flex": null,
            "_model_name": "LayoutModel",
            "justify_items": null,
            "grid_row": null,
            "max_height": null,
            "align_content": null,
            "visibility": null,
            "align_self": null,
            "height": null,
            "min_height": null,
            "padding": null,
            "grid_auto_rows": null,
            "grid_gap": null,
            "max_width": null,
            "order": null,
            "_view_module_version": "1.2.0",
            "grid_template_areas": null,
            "object_position": null,
            "object_fit": null,
            "grid_auto_columns": null,
            "margin": null,
            "display": null,
            "left": null
          }
        },
        "f484ae2028434c83a603b4bb175dfd27": {
          "model_module": "@jupyter-widgets/controls",
          "model_name": "DescriptionStyleModel",
          "state": {
            "_view_name": "StyleView",
            "_model_name": "DescriptionStyleModel",
            "description_width": "",
            "_view_module": "@jupyter-widgets/base",
            "_model_module_version": "1.5.0",
            "_view_count": null,
            "_view_module_version": "1.2.0",
            "_model_module": "@jupyter-widgets/controls"
          }
        },
        "85c20271e14e4b8298559409dda3033c": {
          "model_module": "@jupyter-widgets/base",
          "model_name": "LayoutModel",
          "state": {
            "_view_name": "LayoutView",
            "grid_template_rows": null,
            "right": null,
            "justify_content": null,
            "_view_module": "@jupyter-widgets/base",
            "overflow": null,
            "_model_module_version": "1.2.0",
            "_view_count": null,
            "flex_flow": null,
            "width": null,
            "min_width": null,
            "border": null,
            "align_items": null,
            "bottom": null,
            "_model_module": "@jupyter-widgets/base",
            "top": null,
            "grid_column": null,
            "overflow_y": null,
            "overflow_x": null,
            "grid_auto_flow": null,
            "grid_area": null,
            "grid_template_columns": null,
            "flex": null,
            "_model_name": "LayoutModel",
            "justify_items": null,
            "grid_row": null,
            "max_height": null,
            "align_content": null,
            "visibility": null,
            "align_self": null,
            "height": null,
            "min_height": null,
            "padding": null,
            "grid_auto_rows": null,
            "grid_gap": null,
            "max_width": null,
            "order": null,
            "_view_module_version": "1.2.0",
            "grid_template_areas": null,
            "object_position": null,
            "object_fit": null,
            "grid_auto_columns": null,
            "margin": null,
            "display": null,
            "left": null
          }
        },
        "ebf35945f85d4787b379d13621bacc17": {
          "model_module": "@jupyter-widgets/controls",
          "model_name": "HBoxModel",
          "state": {
            "_view_name": "HBoxView",
            "_dom_classes": [],
            "_model_name": "HBoxModel",
            "_view_module": "@jupyter-widgets/controls",
            "_model_module_version": "1.5.0",
            "_view_count": null,
            "_view_module_version": "1.5.0",
            "box_style": "",
            "layout": "IPY_MODEL_45282e4b74c348fb974ab404369974af",
            "_model_module": "@jupyter-widgets/controls",
            "children": [
              "IPY_MODEL_1029994442524b7fa4a65f080f39f6f4",
              "IPY_MODEL_450f2f29fc5e409fa7eb318a841abdc5"
            ]
          }
        },
        "45282e4b74c348fb974ab404369974af": {
          "model_module": "@jupyter-widgets/base",
          "model_name": "LayoutModel",
          "state": {
            "_view_name": "LayoutView",
            "grid_template_rows": null,
            "right": null,
            "justify_content": null,
            "_view_module": "@jupyter-widgets/base",
            "overflow": null,
            "_model_module_version": "1.2.0",
            "_view_count": null,
            "flex_flow": null,
            "width": null,
            "min_width": null,
            "border": null,
            "align_items": null,
            "bottom": null,
            "_model_module": "@jupyter-widgets/base",
            "top": null,
            "grid_column": null,
            "overflow_y": null,
            "overflow_x": null,
            "grid_auto_flow": null,
            "grid_area": null,
            "grid_template_columns": null,
            "flex": null,
            "_model_name": "LayoutModel",
            "justify_items": null,
            "grid_row": null,
            "max_height": null,
            "align_content": null,
            "visibility": null,
            "align_self": null,
            "height": null,
            "min_height": null,
            "padding": null,
            "grid_auto_rows": null,
            "grid_gap": null,
            "max_width": null,
            "order": null,
            "_view_module_version": "1.2.0",
            "grid_template_areas": null,
            "object_position": null,
            "object_fit": null,
            "grid_auto_columns": null,
            "margin": null,
            "display": null,
            "left": null
          }
        },
        "1029994442524b7fa4a65f080f39f6f4": {
          "model_module": "@jupyter-widgets/controls",
          "model_name": "IntProgressModel",
          "state": {
            "_view_name": "ProgressView",
            "style": "IPY_MODEL_8b5d2434e3b941cbbfe26119765db39e",
            "_dom_classes": [],
            "description": "",
            "_model_name": "IntProgressModel",
            "bar_style": "success",
            "max": 1,
            "_view_module": "@jupyter-widgets/controls",
            "_model_module_version": "1.5.0",
            "value": 1,
            "_view_count": null,
            "_view_module_version": "1.5.0",
            "orientation": "horizontal",
            "min": 0,
            "description_tooltip": null,
            "_model_module": "@jupyter-widgets/controls",
            "layout": "IPY_MODEL_521072bcc93c4a388b99d7289d28d8ba"
          }
        },
        "450f2f29fc5e409fa7eb318a841abdc5": {
          "model_module": "@jupyter-widgets/controls",
          "model_name": "HTMLModel",
          "state": {
            "_view_name": "HTMLView",
            "style": "IPY_MODEL_833feba9b86840ca8929e068c0aae3b2",
            "_dom_classes": [],
            "description": "",
            "_model_name": "HTMLModel",
            "placeholder": "​",
            "_view_module": "@jupyter-widgets/controls",
            "_model_module_version": "1.5.0",
            "value": "100% 1/1 [00:00&lt;00:00, 21.18it/s]",
            "_view_count": null,
            "_view_module_version": "1.5.0",
            "description_tooltip": null,
            "_model_module": "@jupyter-widgets/controls",
            "layout": "IPY_MODEL_8478193409264f36a1627ca8fc6ad689"
          }
        },
        "8b5d2434e3b941cbbfe26119765db39e": {
          "model_module": "@jupyter-widgets/controls",
          "model_name": "ProgressStyleModel",
          "state": {
            "_view_name": "StyleView",
            "_model_name": "ProgressStyleModel",
            "description_width": "",
            "_view_module": "@jupyter-widgets/base",
            "_model_module_version": "1.5.0",
            "_view_count": null,
            "_view_module_version": "1.2.0",
            "bar_color": null,
            "_model_module": "@jupyter-widgets/controls"
          }
        },
        "521072bcc93c4a388b99d7289d28d8ba": {
          "model_module": "@jupyter-widgets/base",
          "model_name": "LayoutModel",
          "state": {
            "_view_name": "LayoutView",
            "grid_template_rows": null,
            "right": null,
            "justify_content": null,
            "_view_module": "@jupyter-widgets/base",
            "overflow": null,
            "_model_module_version": "1.2.0",
            "_view_count": null,
            "flex_flow": null,
            "width": null,
            "min_width": null,
            "border": null,
            "align_items": null,
            "bottom": null,
            "_model_module": "@jupyter-widgets/base",
            "top": null,
            "grid_column": null,
            "overflow_y": null,
            "overflow_x": null,
            "grid_auto_flow": null,
            "grid_area": null,
            "grid_template_columns": null,
            "flex": null,
            "_model_name": "LayoutModel",
            "justify_items": null,
            "grid_row": null,
            "max_height": null,
            "align_content": null,
            "visibility": null,
            "align_self": null,
            "height": null,
            "min_height": null,
            "padding": null,
            "grid_auto_rows": null,
            "grid_gap": null,
            "max_width": null,
            "order": null,
            "_view_module_version": "1.2.0",
            "grid_template_areas": null,
            "object_position": null,
            "object_fit": null,
            "grid_auto_columns": null,
            "margin": null,
            "display": null,
            "left": null
          }
        },
        "833feba9b86840ca8929e068c0aae3b2": {
          "model_module": "@jupyter-widgets/controls",
          "model_name": "DescriptionStyleModel",
          "state": {
            "_view_name": "StyleView",
            "_model_name": "DescriptionStyleModel",
            "description_width": "",
            "_view_module": "@jupyter-widgets/base",
            "_model_module_version": "1.5.0",
            "_view_count": null,
            "_view_module_version": "1.2.0",
            "_model_module": "@jupyter-widgets/controls"
          }
        },
        "8478193409264f36a1627ca8fc6ad689": {
          "model_module": "@jupyter-widgets/base",
          "model_name": "LayoutModel",
          "state": {
            "_view_name": "LayoutView",
            "grid_template_rows": null,
            "right": null,
            "justify_content": null,
            "_view_module": "@jupyter-widgets/base",
            "overflow": null,
            "_model_module_version": "1.2.0",
            "_view_count": null,
            "flex_flow": null,
            "width": null,
            "min_width": null,
            "border": null,
            "align_items": null,
            "bottom": null,
            "_model_module": "@jupyter-widgets/base",
            "top": null,
            "grid_column": null,
            "overflow_y": null,
            "overflow_x": null,
            "grid_auto_flow": null,
            "grid_area": null,
            "grid_template_columns": null,
            "flex": null,
            "_model_name": "LayoutModel",
            "justify_items": null,
            "grid_row": null,
            "max_height": null,
            "align_content": null,
            "visibility": null,
            "align_self": null,
            "height": null,
            "min_height": null,
            "padding": null,
            "grid_auto_rows": null,
            "grid_gap": null,
            "max_width": null,
            "order": null,
            "_view_module_version": "1.2.0",
            "grid_template_areas": null,
            "object_position": null,
            "object_fit": null,
            "grid_auto_columns": null,
            "margin": null,
            "display": null,
            "left": null
          }
        }
      }
    }
  },
  "cells": [
    {
      "cell_type": "markdown",
      "metadata": {
        "id": "R5so66VOD6Mu",
        "colab_type": "text"
      },
      "source": [
        "## Segmentación de organos humanos sobre imagenes de resonancia magnetica mediante redes neuronales profundas.\n",
        "\n",
        "<img src=\"https://i.ibb.co/vJTPZgN/banner.jpg\">"
      ]
    },
    {
      "cell_type": "markdown",
      "metadata": {
        "id": "6ENLO70CQaA8",
        "colab_type": "text"
      },
      "source": [
        "### Imports:"
      ]
    },
    {
      "cell_type": "code",
      "metadata": {
        "id": "mD0aJv-vQOQ6",
        "colab_type": "code",
        "colab": {}
      },
      "source": [
        "#imports:\n",
        "import glob\n",
        "import cv2 as cv\n",
        "import os\n",
        "import sys\n",
        "import matplotlib.pyplot as plt\n",
        "from __future__ import print_function\n",
        "import nibabel as nib\n",
        "from skimage.transform import resize\n",
        "from skimage.io import imsave\n",
        "import numpy as np\n",
        "from skimage.segmentation import mark_boundaries\n",
        "from keras.models import Model\n",
        "from keras.layers import Input, concatenate, Conv2D, MaxPooling2D, Conv2DTranspose\n",
        "from keras.optimizers import Adam, SGD\n",
        "from keras.callbacks import ModelCheckpoint\n",
        "from keras import backend as K\n",
        "from skimage.exposure import rescale_intensity\n",
        "from keras.callbacks import History\n",
        "from skimage import io\n",
        "from data import load_train_data, load_test_data\n",
        "from ipywidgets import interact, interactive, fixed, interact_manual\n",
        "import ipywidgets as widgets\n",
        "from tqdm import tqdm_notebook as tqdm\n",
        "from IPython.display import clear_output\n",
        "import tensorflow as tf\n",
        "from tensorflow import keras"
      ],
      "execution_count": 0,
      "outputs": []
    },
    {
      "cell_type": "code",
      "metadata": {
        "id": "T4Ry_CdKHNmt",
        "colab_type": "code",
        "colab": {}
      },
      "source": [
        "!pip install tensorflow"
      ],
      "execution_count": 0,
      "outputs": []
    },
    {
      "cell_type": "code",
      "metadata": {
        "id": "WvjHtZiYQf_p",
        "colab_type": "code",
        "outputId": "21e83990-f2f5-467e-b7d3-1577f7234c25",
        "colab": {
          "base_uri": "https://localhost:8080/",
          "height": 156
        }
      },
      "source": [
        "#path ejemplo /content/drive/My Drive/Colab Notebooks/Python/Proyectos/2019-2-vision-por-computadora-proyecto\n",
        "#path ejemplo /content/drive/My Drive/Colab Notebooks/2019-2-vision-por-computadora-proyecto\n",
        "from google.colab import drive\n",
        "drive.mount('/content/drive')\n",
        "%cd /content/drive/My Drive/Colab Notebooks/2019-2-vision-por-computadora-proyecto\n",
        "!pwd"
      ],
      "execution_count": 1,
      "outputs": [
        {
          "output_type": "stream",
          "text": [
            "Go to this URL in a browser: https://accounts.google.com/o/oauth2/auth?client_id=947318989803-6bn6qk8qdgf4n4g3pfee6491hc0brc4i.apps.googleusercontent.com&redirect_uri=urn%3aietf%3awg%3aoauth%3a2.0%3aoob&response_type=code&scope=email%20https%3a%2f%2fwww.googleapis.com%2fauth%2fdocs.test%20https%3a%2f%2fwww.googleapis.com%2fauth%2fdrive%20https%3a%2f%2fwww.googleapis.com%2fauth%2fdrive.photos.readonly%20https%3a%2f%2fwww.googleapis.com%2fauth%2fpeopleapi.readonly\n",
            "\n",
            "Enter your authorization code:\n",
            "··········\n",
            "Mounted at /content/drive\n",
            "/content/drive/My Drive/Colab Notebooks/2019-2-vision-por-computadora-proyecto\n",
            "/content/drive/My Drive/Colab Notebooks/2019-2-vision-por-computadora-proyecto\n"
          ],
          "name": "stdout"
        }
      ]
    },
    {
      "cell_type": "markdown",
      "metadata": {
        "id": "D0JYNx_jNLOl",
        "colab_type": "text"
      },
      "source": [
        "### [Ingrese nombre de proyecto]\n",
        "\n",
        "**Integrantes:**\n",
        "\n",
        "- Jorge Andres Mogotocoro Fajardo - 2160075\n",
        "- Mario Hernan Vallejo Huertas    - 2150403\n",
        "- Bryan Daniel Alvarez            - "
      ]
    },
    {
      "cell_type": "markdown",
      "metadata": {
        "id": "ANjfItq3NclF",
        "colab_type": "text"
      },
      "source": [
        "### Objetivo general\n",
        "\n",
        "- Segmentar el hígado a partir de escaneos de pacientes mediante visión por computadora.\n",
        "\n",
        "### Objetivos especificos\n",
        "\n",
        "-  [ - - - ]\n",
        "-  [ - - - ]\n",
        "-  [ - - - ]"
      ]
    },
    {
      "cell_type": "markdown",
      "metadata": {
        "id": "hiSwGDUAOAyG",
        "colab_type": "text"
      },
      "source": [
        "### Preguntas por responder\n",
        "\n",
        "- **Problema a resolver:**  \n",
        "R: Segmentar el hígado a partir de escaneos de pacientes\n",
        "- **¿Como se va resolver?**  \n",
        "R: Basandonos en el metodo utilizado en el trabajo de investigacion [\"U-Net: Convolutional Networks for Biomedical\n",
        "Image Segmentation\"](https://arxiv.org/pdf/1505.04597.pdf)\n",
        "- **¿Por qué se necesita resolver este problema?**  \n",
        "R: El desarrollo tecnológico ha propiciado un cambio asombroso en la medicina, proveyendo de procesos que explican el porqué de muchas enfermedades, de eventos que ocurren en el organismo humano por tanto nuestro proyecto pretende como objetivo a futuro dar a disposicion de la medicina una herramienta que en caso particular permita detectar anomalias en el higado basados en su forma no obstante las bases empleadas esperamos puedan ser de mucha utilidad no solo en detectar un higado si no por el contrario llegar a generalizarse.\n",
        "- **¿Para que?**  \n",
        "R: Nuestro proyecto en principio tiene el objetivo de convertirse en una herramienta lo suficientemente precisa para dictaminar desiciones criticas que puedan salvar y/o prevenir la vida de un paciente.\n",
        "- **¿Para quien(es) seria util esta solucion?**  \n",
        "R: "
      ]
    },
    {
      "cell_type": "markdown",
      "metadata": {
        "id": "l_dCwRUbTpx8",
        "colab_type": "text"
      },
      "source": [
        "### Documentacion del problema:\n",
        "\n"
      ]
    },
    {
      "cell_type": "markdown",
      "metadata": {
        "id": "EwvQ2x93XahT",
        "colab_type": "text"
      },
      "source": [
        "- [La importancia de la tecnologia en la medicina](https://prezi.com/wdfcq6jniuaf/la-importancia-de-la-tecnologia-en-la-medicina/)\n",
        "\n",
        "[Pequeño resumen]\n",
        "\n",
        "- [Nibabel library](https://nipy.org/nibabel/)\n",
        "\n",
        "[¿Que es?]\n",
        "\n",
        "- [U-Net: Convolutional Networks for Biomedical\n",
        "Image Segmentation](https://prezi.com/wdfcq6jniuaf/la-importancia-de-la-tecnologia-en-la-medicina/)\n",
        "\n",
        "[Pequeño resumen]"
      ]
    },
    {
      "cell_type": "markdown",
      "metadata": {
        "id": "-ctu9LtQTKlL",
        "colab_type": "text"
      },
      "source": [
        "### Implementacion"
      ]
    },
    {
      "cell_type": "markdown",
      "metadata": {
        "id": "QojxpHLRBUEj",
        "colab_type": "text"
      },
      "source": [
        "#### Dataset\n",
        "\n",
        "[Fuente](https://www.dropbox.com/s/8h2avwtk8cfzl49/ircad-dataset.zip?dl=0)\n",
        "\n",
        "- El dataset cuenta con formato **nii.gz** (nibabel, [NIfTI](http://niftilib.sourceforge.net/pynifti/intro.html)) el cual hace referencia a datos de neuro imagenes (imagenes de resonancia magnetica estructural MRI). Es un nuevo formato de tados peropuesto por el  [**Grupo de Trabajo de Formato de Datos de NIfTI**](http://nifti.nimh.nih.gov/dfwg/beyond-nifti-1) como una \"medida a corto plazo para facilitar la interacción de los paquetes de software de análisis de datos de IRM funcionales.\n",
        "- Se dispone de 20 conjuntos de imagenes por resonancia magnéticas tomadas a 20 diferentes pacientes.\n",
        "- Los 20 conjuntos de datos se dividen en 20 imagenes por resonancia magnética identificadas por **orig** y 20 conjunto de imagenes mostrando unicamente la zona donde se ubica el higado en su correspondiente imagen por resonancia magnética original, se identifican por **liver**.\n",
        "- Cada conjunto de imagenes de resonancia magnetica tomadas para cada paciente tiene dimenciones de **512 de ancho** por **512 de alto** por la cantidad de tomas o **secciones** que fueron capturadas."
      ]
    },
    {
      "cell_type": "markdown",
      "metadata": {
        "id": "-lSU3sD6OoHi",
        "colab_type": "text"
      },
      "source": [
        "##### Exploracion de los datos"
      ]
    },
    {
      "cell_type": "code",
      "metadata": {
        "id": "EzzCarE3jM8i",
        "colab_type": "code",
        "colab": {}
      },
      "source": [
        "def plot_1(imagen):\n",
        "\n",
        "  plt.axis('off')\n",
        "  img = plt.imshow(imagen, cmap=\"gray\")\n",
        "  return img"
      ],
      "execution_count": 0,
      "outputs": []
    },
    {
      "cell_type": "code",
      "metadata": {
        "id": "9TywRDQeTJ7v",
        "colab_type": "code",
        "outputId": "d1d7f1c5-46fe-444c-e69c-c87ecfb0cb87",
        "colab": {
          "base_uri": "https://localhost:8080/",
          "height": 34
        }
      },
      "source": [
        "data_path = 'raw/test/'\n",
        "example_filename = os.path.join(data_path, 'ircad_e20_orig.nii.gz')\n",
        "img_orig = nib.load(example_filename)\n",
        "img_orig.shape"
      ],
      "execution_count": 0,
      "outputs": [
        {
          "output_type": "execute_result",
          "data": {
            "text/plain": [
              "(512, 512, 225)"
            ]
          },
          "metadata": {
            "tags": []
          },
          "execution_count": 4
        }
      ]
    },
    {
      "cell_type": "code",
      "metadata": {
        "id": "Sk3dBPcrNXAW",
        "colab_type": "code",
        "colab": {}
      },
      "source": [
        "data_orig = img_orig.get_fdata()"
      ],
      "execution_count": 0,
      "outputs": []
    },
    {
      "cell_type": "code",
      "metadata": {
        "id": "fdtb9C-rTf1j",
        "colab_type": "code",
        "outputId": "4dada104-45dd-43a4-a986-3418f26e3c53",
        "colab": {
          "base_uri": "https://localhost:8080/",
          "height": 314,
          "referenced_widgets": [
            "1ddc4ab275ca4079b04c5fc74bf0f8b6",
            "83ccffb51e2a450db3ce390cbbed1c0c",
            "22d3f183d527498c8d78924f34c638e4",
            "eccbf786c9a1432ca734cf64406e19f0",
            "f2e7210208e54c3ea56d20578a10d110",
            "871d8e42cdee47559c12668fafad1a50"
          ]
        }
      },
      "source": [
        "interact(lambda index:plot_1(data_orig[:,:,index]),\n",
        "         index = widgets.IntSlider(min=0,max=112,\n",
        "                                   step=1))"
      ],
      "execution_count": 0,
      "outputs": [
        {
          "output_type": "display_data",
          "data": {
            "application/vnd.jupyter.widget-view+json": {
              "model_id": "1ddc4ab275ca4079b04c5fc74bf0f8b6",
              "version_minor": 0,
              "version_major": 2
            },
            "text/plain": [
              "interactive(children=(IntSlider(value=0, description='index', max=112), Output()), _dom_classes=('widget-inter…"
            ]
          },
          "metadata": {
            "tags": []
          }
        },
        {
          "output_type": "execute_result",
          "data": {
            "text/plain": [
              "<function __main__.<lambda>>"
            ]
          },
          "metadata": {
            "tags": []
          },
          "execution_count": 53
        }
      ]
    },
    {
      "cell_type": "code",
      "metadata": {
        "id": "oqPcEQlpTf62",
        "colab_type": "code",
        "outputId": "5509ab21-cf2a-49ce-dc5c-688a2b8dafc4",
        "colab": {
          "base_uri": "https://localhost:8080/",
          "height": 34
        }
      },
      "source": [
        "data_path = 'raw/test/'\n",
        "example_filename = os.path.join(data_path, 'ircad_e14_liver.nii.gz')\n",
        "img_liver = nib.load(example_filename)\n",
        "img_liver.shape"
      ],
      "execution_count": 0,
      "outputs": [
        {
          "output_type": "execute_result",
          "data": {
            "text/plain": [
              "(512, 512, 113)"
            ]
          },
          "metadata": {
            "tags": []
          },
          "execution_count": 5
        }
      ]
    },
    {
      "cell_type": "code",
      "metadata": {
        "id": "JxLx2m9NTgA5",
        "colab_type": "code",
        "colab": {}
      },
      "source": [
        "data_liver = img.get_fdata()"
      ],
      "execution_count": 0,
      "outputs": []
    },
    {
      "cell_type": "code",
      "metadata": {
        "id": "VsACMbKOPqqH",
        "colab_type": "code",
        "outputId": "f31e8379-5590-4fcb-8f6f-8c8fc36ac089",
        "colab": {
          "base_uri": "https://localhost:8080/",
          "height": 297,
          "referenced_widgets": [
            "c3c945d19b1c49ba9ffb43990d1c0b7a",
            "69035c49b94d4d55991d3076db2a42c6",
            "a978578bcb3e4a90b68107e894de95eb",
            "02bfc6a115e548d8a4e7e2df7f99a157",
            "ae8612cccac8410f854b4b984ac81afe",
            "2ed2714b1d664aacb99cce8947560d90"
          ]
        }
      },
      "source": [
        "interact(lambda index:plot_1(data_liver[:,:,index]),\n",
        "         index = widgets.IntSlider(min=0,max=112,\n",
        "                                   step=1))"
      ],
      "execution_count": 0,
      "outputs": [
        {
          "output_type": "display_data",
          "data": {
            "application/vnd.jupyter.widget-view+json": {
              "model_id": "c3c945d19b1c49ba9ffb43990d1c0b7a",
              "version_minor": 0,
              "version_major": 2
            },
            "text/plain": [
              "interactive(children=(IntSlider(value=0, description='index', max=112), Output()), _dom_classes=('widget-inter…"
            ]
          },
          "metadata": {
            "tags": []
          }
        },
        {
          "output_type": "execute_result",
          "data": {
            "text/plain": [
              "<function __main__.<lambda>>"
            ]
          },
          "metadata": {
            "tags": []
          },
          "execution_count": 47
        }
      ]
    },
    {
      "cell_type": "markdown",
      "metadata": {
        "id": "AQSGm3EBo5FG",
        "colab_type": "text"
      },
      "source": [
        "#### Video ilustrativo"
      ]
    },
    {
      "cell_type": "code",
      "metadata": {
        "id": "jZnxgQ3UpC4z",
        "colab_type": "code",
        "colab": {}
      },
      "source": [
        "def image_to_frames(image, i):\n",
        "    if i < 10:\n",
        "        f_name = \"frames/frame000\"+str(i)+\".png\"\n",
        "    else:\n",
        "        if i < 100:\n",
        "            f_name = \"frames/frame00\"+str(i)+\".png\"\n",
        "        else:\n",
        "            f_name = \"frames/frame0\"+str(i)+\".png\"    \n",
        "    cv.imwrite(f_name, image)\n",
        "\n",
        "def frame_to_video(nombre_video):\n",
        "    img_array = []\n",
        "    for filename in glob.glob('frames/frame*.png'):\n",
        "        img = cv.imread(filename)\n",
        "        height, width, layers = img.shape\n",
        "        size = (width,height)\n",
        "        img_array.append(img)\n",
        " \n",
        "    out = cv.VideoWriter(nombre_video,cv.VideoWriter_fourcc(*'DIVX'), 15, size)\n",
        "    \n",
        "    for i in range(len(img_array)):\n",
        "        out.write(img_array[i])\n",
        "    out.release()"
      ],
      "execution_count": 0,
      "outputs": []
    },
    {
      "cell_type": "code",
      "metadata": {
        "id": "rakF49gWpC7S",
        "colab_type": "code",
        "colab": {}
      },
      "source": [
        "!mkdir frames\n",
        "for i in range(data_orig.shape[2]):\n",
        "  image = data_orig[:,:,i]\n",
        "  image_to_frames(image, i)\n",
        "\n",
        "frame_to_video(\"data_orig.avi\")"
      ],
      "execution_count": 0,
      "outputs": []
    },
    {
      "cell_type": "code",
      "metadata": {
        "id": "wOrYByJUpC9o",
        "colab_type": "code",
        "colab": {}
      },
      "source": [
        "def image_to_frames_2(image, i):\n",
        "    if i < 10:\n",
        "        f_name = \"frames/frame000\"+str(i)+\".png\"\n",
        "    else:\n",
        "        if i < 100:\n",
        "            f_name = \"frames/frame00\"+str(i)+\".png\"\n",
        "        else:\n",
        "            f_name = \"frames/frame0\"+str(i)+\".png\"\n",
        "\n",
        "    plt.axis('off')\n",
        "    plt.imshow(image, 'gray')    \n",
        "    plt.savefig(f_name, dpi=300, bbox_inches='tight')\n",
        "\n",
        "!mkdir frames\n",
        "for i in tqdm( range(data_liver.shape[2]) ):\n",
        "  image = data_liver[:,:,i]\n",
        "  image_to_frames_2(image, i)\n",
        "\n",
        "frame_to_video(\"data_liver.avi\")"
      ],
      "execution_count": 0,
      "outputs": []
    },
    {
      "cell_type": "markdown",
      "metadata": {
        "id": "nDqbQZcfXFr7",
        "colab_type": "text"
      },
      "source": [
        "<img src=\"https://s5.gifyu.com/images/data_orig_2.gif\">"
      ]
    },
    {
      "cell_type": "markdown",
      "metadata": {
        "id": "wLMSwis_VMv3",
        "colab_type": "text"
      },
      "source": [
        "#### Particion de los datos"
      ]
    },
    {
      "cell_type": "code",
      "metadata": {
        "id": "cHcFV3eAXW4L",
        "colab_type": "code",
        "colab": {}
      },
      "source": [
        "def load_image(path, image):\n",
        "  example_filename = os.path.join(path, image)\n",
        "  img_orig = nib.load(example_filename)\n",
        "  data_orig = img_orig.get_fdata()\n",
        "  return data_orig"
      ],
      "execution_count": 0,
      "outputs": []
    },
    {
      "cell_type": "code",
      "metadata": {
        "id": "UyN3TsthYcO9",
        "colab_type": "code",
        "colab": {}
      },
      "source": [
        "def plot_2(imagenes):\n",
        "  interact(lambda index:plot_1(imagenes[:,:,index]),\n",
        "         index = widgets.IntSlider(min=0,max=112,\n",
        "                                   step=1))"
      ],
      "execution_count": 0,
      "outputs": []
    },
    {
      "cell_type": "markdown",
      "metadata": {
        "id": "Wyti-qfqW5BK",
        "colab_type": "text"
      },
      "source": [
        "**Datos de Entrenamineto**"
      ]
    },
    {
      "cell_type": "code",
      "metadata": {
        "id": "Pn5ilgu-VLMu",
        "colab_type": "code",
        "colab": {}
      },
      "source": [
        "data_path = 'raw/'\n",
        "train_data_path = os.path.join(data_path, 'train')\n",
        "images_train_path = os.listdir(train_data_path)\n",
        "images_train_path.sort()"
      ],
      "execution_count": 0,
      "outputs": []
    },
    {
      "cell_type": "code",
      "metadata": {
        "id": "-lk49D3-Q7ym",
        "colab_type": "code",
        "colab": {
          "base_uri": "https://localhost:8080/",
          "height": 238
        },
        "outputId": "3b8bf4c4-1a67-4925-d470-26c07e1363be"
      },
      "source": [
        "training_images = images_train_path[1::2] \n",
        "training_images"
      ],
      "execution_count": 174,
      "outputs": [
        {
          "output_type": "execute_result",
          "data": {
            "text/plain": [
              "['ircad_e01_orig.nii.gz',\n",
              " 'ircad_e02_orig.nii.gz',\n",
              " 'ircad_e03_orig.nii.gz',\n",
              " 'ircad_e04_orig.nii.gz',\n",
              " 'ircad_e05_orig.nii.gz',\n",
              " 'ircad_e06_orig.nii.gz',\n",
              " 'ircad_e07_orig.nii.gz',\n",
              " 'ircad_e08_orig.nii.gz',\n",
              " 'ircad_e09_orig.nii.gz',\n",
              " 'ircad_e10_orig.nii.gz',\n",
              " 'ircad_e11_orig.nii.gz',\n",
              " 'ircad_e12_orig.nii.gz',\n",
              " 'ircad_e13_orig.nii.gz']"
            ]
          },
          "metadata": {
            "tags": []
          },
          "execution_count": 174
        }
      ]
    },
    {
      "cell_type": "code",
      "metadata": {
        "id": "IhBgctSmRIDF",
        "colab_type": "code",
        "colab": {
          "base_uri": "https://localhost:8080/",
          "height": 238
        },
        "outputId": "af13f51b-0455-43f2-9606-08939a51aaac"
      },
      "source": [
        "training_masks = images_train_path[::2]\n",
        "training_masks"
      ],
      "execution_count": 175,
      "outputs": [
        {
          "output_type": "execute_result",
          "data": {
            "text/plain": [
              "['ircad_e01_liver.nii.gz',\n",
              " 'ircad_e02_liver.nii.gz',\n",
              " 'ircad_e03_liver.nii.gz',\n",
              " 'ircad_e04_liver.nii.gz',\n",
              " 'ircad_e05_liver.nii.gz',\n",
              " 'ircad_e06_liver.nii.gz',\n",
              " 'ircad_e07_liver.nii.gz',\n",
              " 'ircad_e08_liver.nii.gz',\n",
              " 'ircad_e09_liver.nii.gz',\n",
              " 'ircad_e10_liver.nii.gz',\n",
              " 'ircad_e11_liver.nii.gz',\n",
              " 'ircad_e12_liver.nii.gz',\n",
              " 'ircad_e13_liver.nii.gz']"
            ]
          },
          "metadata": {
            "tags": []
          },
          "execution_count": 175
        }
      ]
    },
    {
      "cell_type": "code",
      "metadata": {
        "id": "vKBar4uuVLQE",
        "colab_type": "code",
        "colab": {
          "base_uri": "https://localhost:8080/",
          "height": 51
        },
        "outputId": "1a8a7a4c-b4da-46da-f9c0-7661ab2bbc8a"
      },
      "source": [
        "imgs_train = [] \n",
        "masks_train = [] \n",
        "\n",
        "training_images = images_train_path[1::2] \n",
        "training_masks = images_train_path[::2]\n",
        "\n",
        "image_rows = int(512/2)\n",
        "image_cols = int(512/2) \n",
        "\n",
        "for liver, orig in zip(training_masks, training_images):\n",
        "\n",
        "  training_image = load_image(train_data_path,orig)\n",
        "  training_mask = load_image(train_data_path,liver)\n",
        "\n",
        "  for k in range(training_image.shape[2]):\n",
        "\n",
        "    image_2d = np.array(training_image[::2, ::2, k])\n",
        "    mask_2d = np.array(training_mask[::2, ::2, k]) \n",
        "\n",
        "    if len(np.unique(mask_2d)) != 1:\n",
        "      imgs_train.append(image_2d)\n",
        "      masks_train.append(mask_2d)\n",
        "\n",
        "    print(\"Cargando datos de entrenamineto ...\")\n",
        "    print(liver)\n",
        "    print(orig)\n",
        "    print(k,\"/\",training_image.shape[2])\n",
        "    clear_output()\n",
        "  \n",
        "                \n",
        "imgs = np.ndarray(\n",
        "        (len(imgs_train), image_rows, image_cols), dtype=np.uint8\n",
        "        )\n",
        "imgs_mask = np.ndarray(\n",
        "        (len(masks_train), image_rows, image_cols), dtype=np.uint8\n",
        "        )\n",
        "\n",
        "for index, img in enumerate(imgs_train):\n",
        "    imgs[index, :, :] = img\n",
        "    \n",
        "for index, img in enumerate(masks_train):\n",
        "    imgs_mask[index, :, :] = img\n",
        "\n",
        "x_train = imgs\n",
        "y_train = imgs_mask\n",
        "\n",
        "print(x_train.shape)\n",
        "print(y_train.shape)"
      ],
      "execution_count": 176,
      "outputs": [
        {
          "output_type": "stream",
          "text": [
            "(1444, 256, 256)\n",
            "(1444, 256, 256)\n"
          ],
          "name": "stdout"
        }
      ]
    },
    {
      "cell_type": "markdown",
      "metadata": {
        "id": "CrK161_31t_z",
        "colab_type": "text"
      },
      "source": [
        ">**Notas**"
      ]
    },
    {
      "cell_type": "markdown",
      "metadata": {
        "id": "b4QYE5c4-hgm",
        "colab_type": "text"
      },
      "source": [
        "**Añadir la dimencion para keras**\n"
      ]
    },
    {
      "cell_type": "code",
      "metadata": {
        "id": "LtU0YdcV-zMY",
        "colab_type": "code",
        "colab": {
          "base_uri": "https://localhost:8080/",
          "height": 51
        },
        "outputId": "dd9e0c24-0c14-465d-bddd-6e47905931e2"
      },
      "source": [
        "x_train = np.expand_dims(x_train, axis=3)\n",
        "y_train = np.expand_dims(y_train, axis=3)\n",
        "print(x_train.shape)\n",
        "print(y_train.shape)"
      ],
      "execution_count": 177,
      "outputs": [
        {
          "output_type": "stream",
          "text": [
            "(1444, 256, 256, 1)\n",
            "(1444, 256, 256, 1)\n"
          ],
          "name": "stdout"
        }
      ]
    },
    {
      "cell_type": "markdown",
      "metadata": {
        "id": "RKstLK63jjpC",
        "colab_type": "text"
      },
      "source": [
        "**Test**"
      ]
    },
    {
      "cell_type": "code",
      "metadata": {
        "colab_type": "code",
        "id": "t7BTRPAkjsL0",
        "colab": {}
      },
      "source": [
        "data_path = 'raw/'\n",
        "test_data_path = os.path.join(data_path, 'test')\n",
        "images_test_path = os.listdir(test_data_path)\n",
        "images_test_path.sort()"
      ],
      "execution_count": 0,
      "outputs": []
    },
    {
      "cell_type": "code",
      "metadata": {
        "id": "N7A2PUJaVawZ",
        "colab_type": "code",
        "colab": {
          "base_uri": "https://localhost:8080/",
          "height": 136
        },
        "outputId": "87b2f898-e362-4aab-ac43-7ed79a98913f"
      },
      "source": [
        "testing_images = images_test_path[1::2] \n",
        "testing_images"
      ],
      "execution_count": 179,
      "outputs": [
        {
          "output_type": "execute_result",
          "data": {
            "text/plain": [
              "['ircad_e14_orig.nii.gz',\n",
              " 'ircad_e15_orig.nii.gz',\n",
              " 'ircad_e16_orig.nii.gz',\n",
              " 'ircad_e17_orig.nii.gz',\n",
              " 'ircad_e18_orig.nii.gz',\n",
              " 'ircad_e19_orig.nii.gz',\n",
              " 'ircad_e20_orig.nii.gz']"
            ]
          },
          "metadata": {
            "tags": []
          },
          "execution_count": 179
        }
      ]
    },
    {
      "cell_type": "code",
      "metadata": {
        "id": "TJirZDR2VjyF",
        "colab_type": "code",
        "colab": {
          "base_uri": "https://localhost:8080/",
          "height": 136
        },
        "outputId": "f20c0b16-ddb6-429e-d86f-5b6b95222fdf"
      },
      "source": [
        "testing_masks = images_test_path[::2]\n",
        "testing_masks"
      ],
      "execution_count": 180,
      "outputs": [
        {
          "output_type": "execute_result",
          "data": {
            "text/plain": [
              "['ircad_e14_liver.nii.gz',\n",
              " 'ircad_e15_liver.nii.gz',\n",
              " 'ircad_e16_liver.nii.gz',\n",
              " 'ircad_e17_liver.nii.gz',\n",
              " 'ircad_e18_liver.nii.gz',\n",
              " 'ircad_e19_liver.nii.gz',\n",
              " 'ircad_e20_liver.nii.gz']"
            ]
          },
          "metadata": {
            "tags": []
          },
          "execution_count": 180
        }
      ]
    },
    {
      "cell_type": "code",
      "metadata": {
        "colab_type": "code",
        "outputId": "134daedc-1031-49ba-b58d-5d7cbc157962",
        "id": "z7iyw8XujsL8",
        "colab": {
          "base_uri": "https://localhost:8080/",
          "height": 51
        }
      },
      "source": [
        "imgs_test = [] \n",
        "masks_test = [] \n",
        "\n",
        "testing_images = images_test_path[1::2] \n",
        "testing_masks = images_test_path[::2]\n",
        "\n",
        "image_rows = int(512/2)\n",
        "image_cols = int(512/2) \n",
        "\n",
        "for liver, orig in zip(testing_masks, testing_images):\n",
        "\n",
        "  testing_image = load_image(test_data_path,orig)\n",
        "  testing_mask = load_image(test_data_path,liver)\n",
        "\n",
        "  for k in range(testing_mask.shape[2]):\n",
        "\n",
        "    image_2d = np.array(testing_image[::2, ::2, k])\n",
        "    mask_2d = np.array(testing_mask[::2, ::2, k]) \n",
        "\n",
        "    imgs_test.append(image_2d)\n",
        "    masks_test.append(mask_2d)\n",
        "\n",
        "    print(\"Cargando datos de test ...\")\n",
        "    print(liver)\n",
        "    print(orig)\n",
        "    print(k,\"/\",testing_image.shape[2])\n",
        "    clear_output()\n",
        "  \n",
        "                \n",
        "imgs = np.ndarray(\n",
        "        (len(imgs_test), image_rows, image_cols), dtype=np.uint8\n",
        "        )\n",
        "imgs_mask = np.ndarray(\n",
        "        (len(masks_test), image_rows, image_cols), dtype=np.uint8\n",
        "        )\n",
        "\n",
        "for index, img in enumerate(imgs_test):\n",
        "    imgs[index, :, :] = img\n",
        "    \n",
        "for index, img in enumerate(masks_test):\n",
        "    imgs_mask[index, :, :] = img\n",
        "\n",
        "x_test = imgs\n",
        "y_test = imgs_mask\n",
        "\n",
        "print(x_test.shape)\n",
        "print(y_test.shape)"
      ],
      "execution_count": 181,
      "outputs": [
        {
          "output_type": "stream",
          "text": [
            "(935, 256, 256)\n",
            "(935, 256, 256)\n"
          ],
          "name": "stdout"
        }
      ]
    },
    {
      "cell_type": "markdown",
      "metadata": {
        "colab_type": "text",
        "id": "JPXe-7dCAbfe"
      },
      "source": [
        "**Añadir la dimencion para keras**\n"
      ]
    },
    {
      "cell_type": "code",
      "metadata": {
        "colab_type": "code",
        "outputId": "3877a60c-978e-4bec-af23-345b1a88b1af",
        "id": "fye6T0nUAbfi",
        "colab": {
          "base_uri": "https://localhost:8080/",
          "height": 51
        }
      },
      "source": [
        "x_test = np.expand_dims(x_test, axis=3)\n",
        "y_test = np.expand_dims(y_test, axis=3)\n",
        "\n",
        "print(x_test.shape)\n",
        "print(y_test.shape)"
      ],
      "execution_count": 182,
      "outputs": [
        {
          "output_type": "stream",
          "text": [
            "(935, 256, 256, 1)\n",
            "(935, 256, 256, 1)\n"
          ],
          "name": "stdout"
        }
      ]
    },
    {
      "cell_type": "markdown",
      "metadata": {
        "id": "i2NO8YhxBYsr",
        "colab_type": "text"
      },
      "source": [
        "#### Normalizacion de los datos"
      ]
    },
    {
      "cell_type": "code",
      "metadata": {
        "id": "PtqEMv5zBhoS",
        "colab_type": "code",
        "colab": {}
      },
      "source": [
        "x_train = x_train.astype('float32')\n",
        "\n",
        "mean = np.mean(x_train) \n",
        "std = np.std(x_train)  \n",
        "\n",
        "x_train -= mean\n",
        "x_train /= std\n",
        "\n",
        "x_test = x_test.astype('float32')\n",
        "x_test -= mean\n",
        "x_test /= std"
      ],
      "execution_count": 0,
      "outputs": []
    },
    {
      "cell_type": "markdown",
      "metadata": {
        "id": "qxZkpbL3k2LY",
        "colab_type": "text"
      },
      "source": [
        "#### Modelos"
      ]
    },
    {
      "cell_type": "markdown",
      "metadata": {
        "id": "YrdGZJoxJrix",
        "colab_type": "text"
      },
      "source": [
        "##### CNN\n",
        "\n",
        "**Supuesto:** A partir del conjunto de datos **liver** en un primer momento se pretende reducir la informacion de imagenes binarias que indica por cada pixel si se encuentra el higado presente a etiquetas,donde por cada conjunto de datos de pacientes para una imagen de resonancia magnetica asignar una etiqueta de si se encuentra o no el higado presente en toda la imagen."
      ]
    },
    {
      "cell_type": "code",
      "metadata": {
        "id": "Oa7edwopMIvP",
        "colab_type": "code",
        "outputId": "6e0c6da1-b2f2-4ef6-aecb-8bbbbf4ab2db",
        "colab": {
          "base_uri": "https://localhost:8080/",
          "height": 34
        }
      },
      "source": [
        "data_path = 'raw/test/'\n",
        "example_filename = os.path.join(data_path, 'ircad_e20_liver.nii.gz')\n",
        "img_orig = nib.load(example_filename)\n",
        "img_orig.shape"
      ],
      "execution_count": 0,
      "outputs": [
        {
          "output_type": "execute_result",
          "data": {
            "text/plain": [
              "(512, 512, 225)"
            ]
          },
          "metadata": {
            "tags": []
          },
          "execution_count": 11
        }
      ]
    },
    {
      "cell_type": "code",
      "metadata": {
        "id": "yXWdfiGPMIxl",
        "colab_type": "code",
        "outputId": "709610dd-752a-4f50-c74d-3e70ff3af3a6",
        "colab": {
          "base_uri": "https://localhost:8080/",
          "height": 34
        }
      },
      "source": [
        "data_liver = img_orig.get_fdata()\n",
        "data_liver[:,:,125].mean()"
      ],
      "execution_count": 0,
      "outputs": [
        {
          "output_type": "execute_result",
          "data": {
            "text/plain": [
              "0.0"
            ]
          },
          "metadata": {
            "tags": []
          },
          "execution_count": 39
        }
      ]
    },
    {
      "cell_type": "code",
      "metadata": {
        "id": "i_nkYTjbMI0E",
        "colab_type": "code",
        "colab": {}
      },
      "source": [
        ""
      ],
      "execution_count": 0,
      "outputs": []
    },
    {
      "cell_type": "code",
      "metadata": {
        "id": "s3268HPmMI3M",
        "colab_type": "code",
        "colab": {}
      },
      "source": [
        ""
      ],
      "execution_count": 0,
      "outputs": []
    },
    {
      "cell_type": "markdown",
      "metadata": {
        "id": "XXG1E9f5mdwF",
        "colab_type": "text"
      },
      "source": [
        "##### U-Net"
      ]
    },
    {
      "cell_type": "markdown",
      "metadata": {
        "id": "GS3t4dRlBKOg",
        "colab_type": "text"
      },
      "source": [
        "**Metricas**"
      ]
    },
    {
      "cell_type": "code",
      "metadata": {
        "id": "DX3B0PwXnLJo",
        "colab_type": "code",
        "colab": {}
      },
      "source": [
        "smooth = 1.\n",
        "def dice_coef(y_true, y_pred):\n",
        "    y_true_f = K.flatten(y_true)\n",
        "    y_pred_f = K.flatten(y_pred)\n",
        "    intersection = K.sum(y_true_f * y_pred_f)\n",
        "    return (2. * intersection + smooth) / (K.sum(y_true_f) + K.sum(y_pred_f) + smooth)\n",
        "\n",
        "def dice_coef_loss(y_true, y_pred):\n",
        "    return -dice_coef(y_true, y_pred)"
      ],
      "execution_count": 0,
      "outputs": []
    },
    {
      "cell_type": "markdown",
      "metadata": {
        "id": "Hlw0E_EYBN2o",
        "colab_type": "text"
      },
      "source": [
        "**Modelo UNET**"
      ]
    },
    {
      "cell_type": "code",
      "metadata": {
        "id": "mG1YICXojllD",
        "colab_type": "code",
        "colab": {
          "base_uri": "https://localhost:8080/",
          "height": 1000
        },
        "outputId": "45acb774-5998-43cf-cd03-95acbf5b8cf2"
      },
      "source": [
        "img_rows = int(512/2)\n",
        "img_cols = int(512/2)\n",
        "\n",
        "inputs = keras.Input((img_rows, img_cols, 1))\n",
        "conv1 = keras.layers.Conv2D(32, (3, 3), activation='relu', padding='same')(inputs)\n",
        "conv1 = keras.layers.Conv2D(32, (3, 3), activation='relu', padding='same')(conv1)\n",
        "pool1 = keras.layers.MaxPooling2D(pool_size=(2, 2))(conv1)\n",
        "\n",
        "conv2 = keras.layers.Conv2D(64, (3, 3), activation='relu', padding='same')(pool1)\n",
        "conv2 = keras.layers.Conv2D(64, (3, 3), activation='relu', padding='same')(conv2)\n",
        "pool2 = keras.layers.MaxPooling2D(pool_size=(2, 2))(conv2)\n",
        "\n",
        "conv3 = keras.layers.Conv2D(128, (3, 3), activation='relu', padding='same')(pool2)\n",
        "conv3 = keras.layers.Conv2D(128, (3, 3), activation='relu', padding='same')(conv3)\n",
        "pool3 = keras.layers.MaxPooling2D(pool_size=(2, 2))(conv3)\n",
        "\n",
        "conv4 = keras.layers.Conv2D(256, (3, 3), activation='relu', padding='same')(pool3)\n",
        "conv4 = keras.layers.Conv2D(256, (3, 3), activation='relu', padding='same')(conv4)\n",
        "pool4 = keras.layers.MaxPooling2D(pool_size=(2, 2))(conv4)\n",
        "\n",
        "conv5 = keras.layers.Conv2D(512, (3, 3), activation='relu', padding='same')(pool4)\n",
        "conv5 = keras.layers.Conv2D(512, (3, 3), activation='relu', padding='same')(conv5)\n",
        "\n",
        "up6 = keras.layers.concatenate([keras.layers.Conv2DTranspose(256, (2, 2), strides=(2, 2), padding='same')(conv5), conv4], axis=3)\n",
        "conv6 = keras.layers.Conv2D(256, (3, 3), activation='relu', padding='same')(up6)\n",
        "conv6 = keras.layers.Conv2D(256, (3, 3), activation='relu', padding='same')(conv6)\n",
        "\n",
        "up7 = keras.layers.concatenate([keras.layers.Conv2DTranspose(128, (2, 2), strides=(2, 2), padding='same')(conv6), conv3], axis=3)\n",
        "conv7 = keras.layers.Conv2D(128, (3, 3), activation='relu', padding='same')(up7)\n",
        "conv7 = keras.layers.Conv2D(128, (3, 3), activation='relu', padding='same')(conv7)\n",
        "\n",
        "up8 = keras.layers.concatenate([keras.layers.Conv2DTranspose(64, (2, 2), strides=(2, 2), padding='same')(conv7), conv2], axis=3)\n",
        "conv8 = keras.layers.Conv2D(64, (3, 3), activation='relu', padding='same')(up8)\n",
        "conv8 = keras.layers.Conv2D(64, (3, 3), activation='relu', padding='same')(conv8)\n",
        "\n",
        "up9 = keras.layers.concatenate([keras.layers.Conv2DTranspose(32, (2, 2), strides=(2, 2), padding='same')(conv8), conv1], axis=3)\n",
        "conv9 = keras.layers.Conv2D(32, (3, 3), activation='relu', padding='same')(up9)\n",
        "conv9 = keras.layers.Conv2D(32, (3, 3), activation='relu', padding='same')(conv9)\n",
        "\n",
        "conv10 = keras.layers.Conv2D(1, (1, 1), activation='sigmoid')(conv9)\n",
        "\n",
        "model_unet = keras.Model(inputs=[inputs], outputs=[conv10])\n",
        "\n",
        "model_unet.compile(optimizer=keras.optimizers.Adam(lr=1e-3), loss=dice_coef_loss, metrics=[dice_coef])\n",
        "\n",
        "model_unet.summary()"
      ],
      "execution_count": 190,
      "outputs": [
        {
          "output_type": "stream",
          "text": [
            "Model: \"model_13\"\n",
            "__________________________________________________________________________________________________\n",
            "Layer (type)                    Output Shape         Param #     Connected to                     \n",
            "==================================================================================================\n",
            "input_14 (InputLayer)           [(None, 256, 256, 1) 0                                            \n",
            "__________________________________________________________________________________________________\n",
            "conv2d_247 (Conv2D)             (None, 256, 256, 32) 320         input_14[0][0]                   \n",
            "__________________________________________________________________________________________________\n",
            "conv2d_248 (Conv2D)             (None, 256, 256, 32) 9248        conv2d_247[0][0]                 \n",
            "__________________________________________________________________________________________________\n",
            "max_pooling2d_52 (MaxPooling2D) (None, 128, 128, 32) 0           conv2d_248[0][0]                 \n",
            "__________________________________________________________________________________________________\n",
            "conv2d_249 (Conv2D)             (None, 128, 128, 64) 18496       max_pooling2d_52[0][0]           \n",
            "__________________________________________________________________________________________________\n",
            "conv2d_250 (Conv2D)             (None, 128, 128, 64) 36928       conv2d_249[0][0]                 \n",
            "__________________________________________________________________________________________________\n",
            "max_pooling2d_53 (MaxPooling2D) (None, 64, 64, 64)   0           conv2d_250[0][0]                 \n",
            "__________________________________________________________________________________________________\n",
            "conv2d_251 (Conv2D)             (None, 64, 64, 128)  73856       max_pooling2d_53[0][0]           \n",
            "__________________________________________________________________________________________________\n",
            "conv2d_252 (Conv2D)             (None, 64, 64, 128)  147584      conv2d_251[0][0]                 \n",
            "__________________________________________________________________________________________________\n",
            "max_pooling2d_54 (MaxPooling2D) (None, 32, 32, 128)  0           conv2d_252[0][0]                 \n",
            "__________________________________________________________________________________________________\n",
            "conv2d_253 (Conv2D)             (None, 32, 32, 256)  295168      max_pooling2d_54[0][0]           \n",
            "__________________________________________________________________________________________________\n",
            "conv2d_254 (Conv2D)             (None, 32, 32, 256)  590080      conv2d_253[0][0]                 \n",
            "__________________________________________________________________________________________________\n",
            "max_pooling2d_55 (MaxPooling2D) (None, 16, 16, 256)  0           conv2d_254[0][0]                 \n",
            "__________________________________________________________________________________________________\n",
            "conv2d_255 (Conv2D)             (None, 16, 16, 512)  1180160     max_pooling2d_55[0][0]           \n",
            "__________________________________________________________________________________________________\n",
            "conv2d_256 (Conv2D)             (None, 16, 16, 512)  2359808     conv2d_255[0][0]                 \n",
            "__________________________________________________________________________________________________\n",
            "conv2d_transpose_52 (Conv2DTran (None, 32, 32, 256)  524544      conv2d_256[0][0]                 \n",
            "__________________________________________________________________________________________________\n",
            "concatenate_52 (Concatenate)    (None, 32, 32, 512)  0           conv2d_transpose_52[0][0]        \n",
            "                                                                 conv2d_254[0][0]                 \n",
            "__________________________________________________________________________________________________\n",
            "conv2d_257 (Conv2D)             (None, 32, 32, 256)  1179904     concatenate_52[0][0]             \n",
            "__________________________________________________________________________________________________\n",
            "conv2d_258 (Conv2D)             (None, 32, 32, 256)  590080      conv2d_257[0][0]                 \n",
            "__________________________________________________________________________________________________\n",
            "conv2d_transpose_53 (Conv2DTran (None, 64, 64, 128)  131200      conv2d_258[0][0]                 \n",
            "__________________________________________________________________________________________________\n",
            "concatenate_53 (Concatenate)    (None, 64, 64, 256)  0           conv2d_transpose_53[0][0]        \n",
            "                                                                 conv2d_252[0][0]                 \n",
            "__________________________________________________________________________________________________\n",
            "conv2d_259 (Conv2D)             (None, 64, 64, 128)  295040      concatenate_53[0][0]             \n",
            "__________________________________________________________________________________________________\n",
            "conv2d_260 (Conv2D)             (None, 64, 64, 128)  147584      conv2d_259[0][0]                 \n",
            "__________________________________________________________________________________________________\n",
            "conv2d_transpose_54 (Conv2DTran (None, 128, 128, 64) 32832       conv2d_260[0][0]                 \n",
            "__________________________________________________________________________________________________\n",
            "concatenate_54 (Concatenate)    (None, 128, 128, 128 0           conv2d_transpose_54[0][0]        \n",
            "                                                                 conv2d_250[0][0]                 \n",
            "__________________________________________________________________________________________________\n",
            "conv2d_261 (Conv2D)             (None, 128, 128, 64) 73792       concatenate_54[0][0]             \n",
            "__________________________________________________________________________________________________\n",
            "conv2d_262 (Conv2D)             (None, 128, 128, 64) 36928       conv2d_261[0][0]                 \n",
            "__________________________________________________________________________________________________\n",
            "conv2d_transpose_55 (Conv2DTran (None, 256, 256, 32) 8224        conv2d_262[0][0]                 \n",
            "__________________________________________________________________________________________________\n",
            "concatenate_55 (Concatenate)    (None, 256, 256, 64) 0           conv2d_transpose_55[0][0]        \n",
            "                                                                 conv2d_248[0][0]                 \n",
            "__________________________________________________________________________________________________\n",
            "conv2d_263 (Conv2D)             (None, 256, 256, 32) 18464       concatenate_55[0][0]             \n",
            "__________________________________________________________________________________________________\n",
            "conv2d_264 (Conv2D)             (None, 256, 256, 32) 9248        conv2d_263[0][0]                 \n",
            "__________________________________________________________________________________________________\n",
            "conv2d_265 (Conv2D)             (None, 256, 256, 1)  33          conv2d_264[0][0]                 \n",
            "==================================================================================================\n",
            "Total params: 7,759,521\n",
            "Trainable params: 7,759,521\n",
            "Non-trainable params: 0\n",
            "__________________________________________________________________________________________________\n"
          ],
          "name": "stdout"
        }
      ]
    },
    {
      "cell_type": "code",
      "metadata": {
        "id": "-myp6maejlpz",
        "colab_type": "code",
        "colab": {
          "base_uri": "https://localhost:8080/",
          "height": 785
        },
        "outputId": "8aa7cef6-c615-4d88-fd7e-f9c5a1ae5a18"
      },
      "source": [
        "model_checkpoint = ModelCheckpoint('weights.h5', monitor='val_loss', save_best_only=True)\n",
        "print('-'*30)\n",
        "print('Fitting model...')\n",
        "print('-'*30)\n",
        "history=model_unet.fit(x_train, y_train, batch_size=10, epochs=20, verbose=1, shuffle=True,\n",
        "          validation_split=0.2,\n",
        "          validation_data=(x_test, y_test),\n",
        "          callbacks=[model_checkpoint])"
      ],
      "execution_count": 191,
      "outputs": [
        {
          "output_type": "stream",
          "text": [
            "------------------------------\n",
            "Fitting model...\n",
            "------------------------------\n",
            "Train on 1444 samples, validate on 935 samples\n",
            "Epoch 1/20\n",
            "1444/1444 [==============================] - 32s 22ms/sample - loss: -0.6656 - dice_coef: 0.6661 - val_loss: -0.5541 - val_dice_coef: 0.5539\n",
            "Epoch 2/20\n",
            "1444/1444 [==============================] - 19s 13ms/sample - loss: -0.8646 - dice_coef: 0.8645 - val_loss: -0.5682 - val_dice_coef: 0.5666\n",
            "Epoch 3/20\n",
            "1444/1444 [==============================] - 19s 13ms/sample - loss: -0.8910 - dice_coef: 0.8911 - val_loss: -0.6274 - val_dice_coef: 0.6264\n",
            "Epoch 4/20\n",
            "1444/1444 [==============================] - 19s 13ms/sample - loss: -0.9157 - dice_coef: 0.9157 - val_loss: -0.6612 - val_dice_coef: 0.6616\n",
            "Epoch 5/20\n",
            "1444/1444 [==============================] - 19s 13ms/sample - loss: -0.9370 - dice_coef: 0.9371 - val_loss: -0.6636 - val_dice_coef: 0.6652\n",
            "Epoch 6/20\n",
            "1444/1444 [==============================] - 18s 12ms/sample - loss: -0.9483 - dice_coef: 0.9483 - val_loss: -0.6524 - val_dice_coef: 0.6537\n",
            "Epoch 7/20\n",
            "1444/1444 [==============================] - 18s 12ms/sample - loss: -0.9486 - dice_coef: 0.9485 - val_loss: -0.6341 - val_dice_coef: 0.6356\n",
            "Epoch 8/20\n",
            "1444/1444 [==============================] - 19s 13ms/sample - loss: -0.9590 - dice_coef: 0.9591 - val_loss: -0.6776 - val_dice_coef: 0.6759\n",
            "Epoch 9/20\n",
            "1444/1444 [==============================] - 18s 13ms/sample - loss: -0.9638 - dice_coef: 0.9639 - val_loss: -0.6750 - val_dice_coef: 0.6765\n",
            "Epoch 10/20\n",
            "1444/1444 [==============================] - 20s 14ms/sample - loss: -0.9644 - dice_coef: 0.9644 - val_loss: -0.7079 - val_dice_coef: 0.7072\n",
            "Epoch 11/20\n",
            "1444/1444 [==============================] - 19s 13ms/sample - loss: -0.9667 - dice_coef: 0.9668 - val_loss: -0.7280 - val_dice_coef: 0.7283\n",
            "Epoch 12/20\n",
            "1444/1444 [==============================] - 18s 13ms/sample - loss: -0.9710 - dice_coef: 0.9710 - val_loss: -0.7171 - val_dice_coef: 0.7173\n",
            "Epoch 13/20\n",
            "1444/1444 [==============================] - 18s 13ms/sample - loss: -0.9735 - dice_coef: 0.9734 - val_loss: -0.7261 - val_dice_coef: 0.7269\n",
            "Epoch 14/20\n",
            "1444/1444 [==============================] - 18s 13ms/sample - loss: -0.9751 - dice_coef: 0.9750 - val_loss: -0.6759 - val_dice_coef: 0.6755\n",
            "Epoch 15/20\n",
            "1444/1444 [==============================] - 18s 13ms/sample - loss: -0.9717 - dice_coef: 0.9716 - val_loss: -0.7067 - val_dice_coef: 0.7063\n",
            "Epoch 16/20\n",
            "1444/1444 [==============================] - 18s 13ms/sample - loss: -0.9698 - dice_coef: 0.9698 - val_loss: -0.7131 - val_dice_coef: 0.7136\n",
            "Epoch 17/20\n",
            "1444/1444 [==============================] - 18s 13ms/sample - loss: -0.9766 - dice_coef: 0.9766 - val_loss: -0.7021 - val_dice_coef: 0.7027\n",
            "Epoch 18/20\n",
            "1444/1444 [==============================] - 18s 13ms/sample - loss: -0.9761 - dice_coef: 0.9761 - val_loss: -0.6495 - val_dice_coef: 0.6471\n",
            "Epoch 19/20\n",
            "1444/1444 [==============================] - 18s 13ms/sample - loss: -0.9635 - dice_coef: 0.9634 - val_loss: -0.6663 - val_dice_coef: 0.6668\n",
            "Epoch 20/20\n",
            "1444/1444 [==============================] - 18s 13ms/sample - loss: -0.9685 - dice_coef: 0.9685 - val_loss: -0.6982 - val_dice_coef: 0.6988\n"
          ],
          "name": "stdout"
        }
      ]
    },
    {
      "cell_type": "code",
      "metadata": {
        "id": "1tQLDrI-jlsf",
        "colab_type": "code",
        "colab": {
          "base_uri": "https://localhost:8080/",
          "height": 295
        },
        "outputId": "1bcf8566-b506-4b93-c2c5-c7ff5eb91a33"
      },
      "source": [
        "plt.plot(history.history['dice_coef'])\n",
        "plt.plot(history.history['val_dice_coef'])\n",
        "plt.title('Model dice coeff')\n",
        "plt.ylabel('Dice coeff')\n",
        "plt.xlabel('Epoch')\n",
        "plt.legend(['Train', 'Test'], loc='upper left')\n",
        "plt.show()"
      ],
      "execution_count": 192,
      "outputs": [
        {
          "output_type": "display_data",
          "data": {
            "image/png": "[encoded data removed]",
            "text/plain": [
              "<Figure size 432x288 with 1 Axes>"
            ]
          },
          "metadata": {
            "tags": []
          }
        }
      ]
    },
    {
      "cell_type": "markdown",
      "metadata": {
        "id": "VGkdk3MLemGH",
        "colab_type": "text"
      },
      "source": [
        "**Exploracion por capas**"
      ]
    },
    {
      "cell_type": "code",
      "metadata": {
        "id": "6mVg88Aeen0h",
        "colab_type": "code",
        "colab": {
          "base_uri": "https://localhost:8080/",
          "height": 179
        },
        "outputId": "da594c61-050d-4447-96a1-12b60d93786e"
      },
      "source": [
        "w = model_unet.get_weights()[0]\n",
        "plt.figure(figsize=(7,7))\n",
        "w = (w-np.min(w))/(np.max(w)-np.min(w))\n",
        "for i in range(w.shape[-1]):\n",
        "    plt.subplot(10,10,i+1)\n",
        "    plt.imshow(w[:,:,0,i])\n",
        "    plt.axis(\"off\")"
      ],
      "execution_count": 216,
      "outputs": [
        {
          "output_type": "display_data",
          "data": {
            "image/png": "[encoded data removed]",
            "text/plain": [
              "<Figure size 504x504 with 32 Axes>"
            ]
          },
          "metadata": {
            "tags": []
          }
        }
      ]
    },
    {
      "cell_type": "code",
      "metadata": {
        "id": "8Fa5SI33jCsv",
        "colab_type": "code",
        "colab": {
          "base_uri": "https://localhost:8080/",
          "height": 561
        },
        "outputId": "5fc3c4f0-4e90-4a44-c507-7f1b2848da99"
      },
      "source": [
        "layer_outputs = [layer.output for layer in model_unet.layers ]\n",
        "layer_outputs"
      ],
      "execution_count": 218,
      "outputs": [
        {
          "output_type": "execute_result",
          "data": {
            "text/plain": [
              "[<tf.Tensor 'input_14:0' shape=(?, 256, 256, 1) dtype=float32>,\n",
              " <tf.Tensor 'conv2d_247/Relu:0' shape=(?, 256, 256, 32) dtype=float32>,\n",
              " <tf.Tensor 'conv2d_248/Relu:0' shape=(?, 256, 256, 32) dtype=float32>,\n",
              " <tf.Tensor 'max_pooling2d_52/MaxPool:0' shape=(?, 128, 128, 32) dtype=float32>,\n",
              " <tf.Tensor 'conv2d_249/Relu:0' shape=(?, 128, 128, 64) dtype=float32>,\n",
              " <tf.Tensor 'conv2d_250/Relu:0' shape=(?, 128, 128, 64) dtype=float32>,\n",
              " <tf.Tensor 'max_pooling2d_53/MaxPool:0' shape=(?, 64, 64, 64) dtype=float32>,\n",
              " <tf.Tensor 'conv2d_251/Relu:0' shape=(?, 64, 64, 128) dtype=float32>,\n",
              " <tf.Tensor 'conv2d_252/Relu:0' shape=(?, 64, 64, 128) dtype=float32>,\n",
              " <tf.Tensor 'max_pooling2d_54/MaxPool:0' shape=(?, 32, 32, 128) dtype=float32>,\n",
              " <tf.Tensor 'conv2d_253/Relu:0' shape=(?, 32, 32, 256) dtype=float32>,\n",
              " <tf.Tensor 'conv2d_254/Relu:0' shape=(?, 32, 32, 256) dtype=float32>,\n",
              " <tf.Tensor 'max_pooling2d_55/MaxPool:0' shape=(?, 16, 16, 256) dtype=float32>,\n",
              " <tf.Tensor 'conv2d_255/Relu:0' shape=(?, 16, 16, 512) dtype=float32>,\n",
              " <tf.Tensor 'conv2d_256/Relu:0' shape=(?, 16, 16, 512) dtype=float32>,\n",
              " <tf.Tensor 'conv2d_transpose_52/BiasAdd:0' shape=(?, 32, 32, 256) dtype=float32>,\n",
              " <tf.Tensor 'concatenate_52/concat:0' shape=(?, 32, 32, 512) dtype=float32>,\n",
              " <tf.Tensor 'conv2d_257/Relu:0' shape=(?, 32, 32, 256) dtype=float32>,\n",
              " <tf.Tensor 'conv2d_258/Relu:0' shape=(?, 32, 32, 256) dtype=float32>,\n",
              " <tf.Tensor 'conv2d_transpose_53/BiasAdd:0' shape=(?, 64, 64, 128) dtype=float32>,\n",
              " <tf.Tensor 'concatenate_53/concat:0' shape=(?, 64, 64, 256) dtype=float32>,\n",
              " <tf.Tensor 'conv2d_259/Relu:0' shape=(?, 64, 64, 128) dtype=float32>,\n",
              " <tf.Tensor 'conv2d_260/Relu:0' shape=(?, 64, 64, 128) dtype=float32>,\n",
              " <tf.Tensor 'conv2d_transpose_54/BiasAdd:0' shape=(?, 128, 128, 64) dtype=float32>,\n",
              " <tf.Tensor 'concatenate_54/concat:0' shape=(?, 128, 128, 128) dtype=float32>,\n",
              " <tf.Tensor 'conv2d_261/Relu:0' shape=(?, 128, 128, 64) dtype=float32>,\n",
              " <tf.Tensor 'conv2d_262/Relu:0' shape=(?, 128, 128, 64) dtype=float32>,\n",
              " <tf.Tensor 'conv2d_transpose_55/BiasAdd:0' shape=(?, 256, 256, 32) dtype=float32>,\n",
              " <tf.Tensor 'concatenate_55/concat:0' shape=(?, 256, 256, 64) dtype=float32>,\n",
              " <tf.Tensor 'conv2d_263/Relu:0' shape=(?, 256, 256, 32) dtype=float32>,\n",
              " <tf.Tensor 'conv2d_264/Relu:0' shape=(?, 256, 256, 32) dtype=float32>,\n",
              " <tf.Tensor 'conv2d_265/Sigmoid:0' shape=(?, 256, 256, 1) dtype=float32>]"
            ]
          },
          "metadata": {
            "tags": []
          },
          "execution_count": 218
        }
      ]
    },
    {
      "cell_type": "code",
      "metadata": {
        "id": "DM5XSa9Uo5r3",
        "colab_type": "code",
        "colab": {}
      },
      "source": [
        "ima_example = x_test[50,:,:,0]"
      ],
      "execution_count": 0,
      "outputs": []
    },
    {
      "cell_type": "code",
      "metadata": {
        "id": "tgLfHGSjnCRc",
        "colab_type": "code",
        "colab": {
          "base_uri": "https://localhost:8080/",
          "height": 286
        },
        "outputId": "c89d894e-4eb3-494b-f7cb-9c226bda1601"
      },
      "source": [
        "plt.imshow(ima_example, cmap=\"gray\")"
      ],
      "execution_count": 256,
      "outputs": [
        {
          "output_type": "execute_result",
          "data": {
            "text/plain": [
              "<matplotlib.image.AxesImage at 0x7fe227b0f3c8>"
            ]
          },
          "metadata": {
            "tags": []
          },
          "execution_count": 256
        },
        {
          "output_type": "display_data",
          "data": {
            "image/png": "[encoded data removed]",
            "text/plain": [
              "<Figure size 432x288 with 1 Axes>"
            ]
          },
          "metadata": {
            "tags": []
          }
        }
      ]
    },
    {
      "cell_type": "code",
      "metadata": {
        "id": "cG24u6beps40",
        "colab_type": "code",
        "colab": {}
      },
      "source": [
        "def printLayer(layer):\n",
        "  import random\n",
        "\n",
        "  print(layer)\n",
        "  activation_model = keras.models.Model(inputs=model_unet.input, \n",
        "                                      outputs=model_unet.get_layer(layer).output)\n",
        "  array = np.expand_dims(x_test[50], axis=0)\n",
        "  activations = activation_model.predict(array)\n",
        "  plt.figure(figsize=(20,3))\n",
        "\n",
        "  tamaño = activations[0,:, :, :].shape[2]\n",
        "\n",
        "  if( tamaño > 32 ):\n",
        "    K = 32\n",
        "  else:\n",
        "    K = tamaño\n",
        "\n",
        "  j = 0\n",
        "\n",
        "  for i in tqdm(random.choices(range(activations[0,:, :, :].shape[2]), k=K)):\n",
        "        plt.subplot(2,16,j+1)\n",
        "        plt.xticks([])\n",
        "        plt.yticks([])\n",
        "        plt.grid(False)\n",
        "        plt.imshow(activations[0,:, :, i], cmap='gray')\n",
        "        j = j+1"
      ],
      "execution_count": 0,
      "outputs": []
    },
    {
      "cell_type": "code",
      "metadata": {
        "id": "5ruXaQA2rKOq",
        "colab_type": "code",
        "colab": {
          "base_uri": "https://localhost:8080/",
          "height": 191,
          "referenced_widgets": [
            "ad96df027a4443ae9f45bdb9348b2219",
            "de72432e283e43f99b9e079a9b6591f8",
            "753caf0dbe34490480d7109590d1365f",
            "4c0502134fae4787b9d4aab84e183fc9",
            "efdb360fbefd477698b1d140d23792db",
            "43dd24f6992b44449e3a886bcf97ebbc",
            "28d04b6c4ee7498da1db32b0a539605d",
            "7aaaa84887ae42c7b552170ecc819070",
            "3e8eb6061ece45e49d92db8b3cce97a6",
            "aec876ae02af41c2ad03feb2a81e463a",
            "5af868a7dfec43339223b056677653c1",
            "fe2485f8b6b543ec96c2b9ada7bc4ec6",
            "b7295d9f35de4922b661d6c909028bbf",
            "2e2a47d3fcf44807a2a1cfb5f7c2acf1",
            "4fcbafa527574833aa5b34dc280c1629",
            "7279b17482414eda97fb92d3b6d6f08c",
            "a4712a897d4340cb88cb66e1c2251d82",
            "8fbd2d8798b24e7f8c9ac2d318e9c6b0",
            "63c33478d4584ad8838f16ef12fe07e7",
            "11464f7aa8c34d6593260c475e40972d",
            "629a58399acc4f3c9a1dfc354087736e",
            "5e7093adffb149e98b16f7b6072251ab",
            "e50ff33d4f704e08865e76b29904a208",
            "046e96b2982846438731b803db132b44",
            "f5e8d0ea0c4846aaaff32f0521d3db66",
            "48096a6748f842cc9683ab22384acfc6",
            "45183a63a5314bfb8dcc06d0cae6b0b4",
            "3f563d23ef3d4f2799fbed6287154c80",
            "e98b9605143b44f1ae06004bdbbbb8d6",
            "e5e07f0680aa42c8a517a6f6f5de45a0",
            "6b45d7c95ff44953af1469fcddf02ae5",
            "9abb4b7f1f0c46eead2b1f8cb2d14f84",
            "d93c741c1678452cbd89f5bf10bea7e7",
            "f61ce37cedc04260976d405d2865b259",
            "29f36ce5b8ac4fc48c82777b91c1d1ab",
            "3aee5f7df7ec4b7da7aeaf9b488e2841",
            "58f43c7360fa448aa7d62a91529decfa",
            "2c6f197f2c9e4bc087fae69e01862a4a",
            "77dcd6344c8546438e68271316ee1ad5",
            "3ee1f09918264507a5af1aa49cba962c",
            "42d476ef6e4b414bb0e7cd059c67be37",
            "ac61c90528754007bd0fb169d555386a",
            "b798606efbdd4119929f8dff353d636a",
            "c3e53eff15e745e2bed95c1f38aa03be",
            "12eab7d8596c483593403729aa5fbee9",
            "fbf2974682844c8c8259f04a0e7e3839",
            "038a71ac0aa247b3b1d8ad94333993f0",
            "fff975c8f89f40d69fd1d551d2695c37",
            "39b25cb5cbb84444afd699cdfa79175a",
            "1c839ec4c5e642e5b59c09ed2a57eb3f",
            "ea99b38bdcdc42f8bf732e67430e3e59",
            "d2f4cb66f80a47b895a0414987352d8a",
            "f484ae2028434c83a603b4bb175dfd27",
            "85c20271e14e4b8298559409dda3033c",
            "ebf35945f85d4787b379d13621bacc17",
            "45282e4b74c348fb974ab404369974af",
            "1029994442524b7fa4a65f080f39f6f4",
            "450f2f29fc5e409fa7eb318a841abdc5",
            "8b5d2434e3b941cbbfe26119765db39e",
            "521072bcc93c4a388b99d7289d28d8ba",
            "833feba9b86840ca8929e068c0aae3b2",
            "8478193409264f36a1627ca8fc6ad689"
          ]
        },
        "outputId": "dc48711d-853f-419e-b2df-c15019059817"
      },
      "source": [
        "layers = [\"conv2d_247\",\"conv2d_248\",\"max_pooling2d_52\",\"conv2d_249\",\"conv2d_250\",\"max_pooling2d_53\",\"conv2d_251\",\"conv2d_252\",\"max_pooling2d_54\",\"conv2d_253\",\"conv2d_254\",\"max_pooling2d_55\",\"conv2d_255\",\"conv2d_256\",\"conv2d_transpose_52\",\"concatenate_52\",\"conv2d_257\",\"conv2d_258\",\"conv2d_transpose_53\",\"concatenate_53\",\"conv2d_259\",\"conv2d_260\",\"conv2d_transpose_54\",\"concatenate_54\",\"conv2d_261\",\"conv2d_262\",\"conv2d_transpose_55\",\"concatenate_55\",\"conv2d_263\",\"conv2d_264\",\"conv2d_265\"]\n",
        "\n",
        "interact(lambda index:printLayer(layers[index]),\n",
        "         index = widgets.IntSlider(min=0,max=len(layers)-1,\n",
        "                                   step=1))"
      ],
      "execution_count": 293,
      "outputs": [
        {
          "output_type": "display_data",
          "data": {
            "application/vnd.jupyter.widget-view+json": {
              "model_id": "ad96df027a4443ae9f45bdb9348b2219",
              "version_minor": 0,
              "version_major": 2
            },
            "text/plain": [
              "interactive(children=(IntSlider(value=0, description='index', max=30), Output()), _dom_classes=('widget-intera…"
            ]
          },
          "metadata": {
            "tags": []
          }
        },
        {
          "output_type": "execute_result",
          "data": {
            "text/plain": [
              "<function __main__.<lambda>>"
            ]
          },
          "metadata": {
            "tags": []
          },
          "execution_count": 293
        }
      ]
    },
    {
      "cell_type": "code",
      "metadata": {
        "id": "beKaD0pSqS48",
        "colab_type": "code",
        "colab": {}
      },
      "source": [
        ""
      ],
      "execution_count": 0,
      "outputs": []
    },
    {
      "cell_type": "markdown",
      "metadata": {
        "id": "NyaoBnL87mBn",
        "colab_type": "text"
      },
      "source": [
        "## Referencias:\n",
        "\n",
        "- [Application of Deep Learning to the segmentation of medical images](https://github.com/soribadiaby/Deep-Learning-liver-segmentation-project)\n",
        "- [U-Net: Convolutional Networks for Biomedical\n",
        "Image Segmentation](https://arxiv.org/pdf/1505.04597.pdf)\n",
        "- [Data](https://www.dropbox.com/s/8h2avwtk8cfzl49/ircad-dataset.zip?dl=0)\n",
        "- [Nibabel library](https://nipy.org/nibabel/)"
      ]
    }
  ]
}